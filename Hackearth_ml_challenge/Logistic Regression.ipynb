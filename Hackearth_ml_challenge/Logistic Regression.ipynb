{
 "cells": [
  {
   "cell_type": "code",
   "execution_count": 1,
   "metadata": {
    "collapsed": true
   },
   "outputs": [],
   "source": [
    "import json"
   ]
  },
  {
   "cell_type": "code",
   "execution_count": 2,
   "metadata": {
    "collapsed": true
   },
   "outputs": [],
   "source": [
    "review_coll = json.load(open(\"reviews.json\",\"r\"))"
   ]
  },
  {
   "cell_type": "code",
   "execution_count": 3,
   "metadata": {},
   "outputs": [
    {
     "data": {
      "text/plain": [
       "1128"
      ]
     },
     "execution_count": 3,
     "metadata": {},
     "output_type": "execute_result"
    }
   ],
   "source": [
    "len(review_coll)"
   ]
  },
  {
   "cell_type": "code",
   "execution_count": 4,
   "metadata": {
    "collapsed": true
   },
   "outputs": [],
   "source": [
    "import pandas as pd\n",
    "review_df = pd.DataFrame(review_coll)"
   ]
  },
  {
   "cell_type": "code",
   "execution_count": 5,
   "metadata": {},
   "outputs": [
    {
     "data": {
      "text/plain": [
       "(1128, 8)"
      ]
     },
     "execution_count": 5,
     "metadata": {},
     "output_type": "execute_result"
    }
   ],
   "source": [
    "review_df.shape"
   ]
  },
  {
   "cell_type": "code",
   "execution_count": 6,
   "metadata": {},
   "outputs": [
    {
     "data": {
      "text/plain": [
       "Index([u'author', u'body', u'colour', u'date', u'header', u'rating', u'size',\n",
       "       u'verified_purchase'],\n",
       "      dtype='object')"
      ]
     },
     "execution_count": 6,
     "metadata": {},
     "output_type": "execute_result"
    }
   ],
   "source": [
    "review_df.columns"
   ]
  },
  {
   "cell_type": "code",
   "execution_count": 7,
   "metadata": {
    "collapsed": true
   },
   "outputs": [],
   "source": [
    "data_df = review_df[[\"body\",\"header\",\"rating\"]]"
   ]
  },
  {
   "cell_type": "code",
   "execution_count": 8,
   "metadata": {},
   "outputs": [
    {
     "data": {
      "text/plain": [
       "(1128, 3)"
      ]
     },
     "execution_count": 8,
     "metadata": {},
     "output_type": "execute_result"
    }
   ],
   "source": [
    "data_df.shape"
   ]
  },
  {
   "cell_type": "code",
   "execution_count": 43,
   "metadata": {},
   "outputs": [
    {
     "data": {
      "text/plain": [
       "rating\n",
       "1.0    158\n",
       "2.0     28\n",
       "3.0     44\n",
       "4.0    104\n",
       "5.0    794\n",
       "Name: rating, dtype: int64"
      ]
     },
     "execution_count": 43,
     "metadata": {},
     "output_type": "execute_result"
    }
   ],
   "source": [
    "data_df.groupby(\"rating\")[\"rating\"].count()"
   ]
  },
  {
   "cell_type": "markdown",
   "metadata": {},
   "source": [
    "### Train - Validation - Test split"
   ]
  },
  {
   "cell_type": "code",
   "execution_count": 9,
   "metadata": {
    "collapsed": true
   },
   "outputs": [],
   "source": [
    "from sklearn.model_selection import train_test_split\n",
    "train_val_df, test_df = train_test_split(data_df, test_size=0.2)\n",
    "train_df, val_df = train_test_split(train_val_df, test_size=0.25)"
   ]
  },
  {
   "cell_type": "code",
   "execution_count": 10,
   "metadata": {},
   "outputs": [
    {
     "data": {
      "text/plain": [
       "(676, 226, 226)"
      ]
     },
     "execution_count": 10,
     "metadata": {},
     "output_type": "execute_result"
    }
   ],
   "source": [
    "len(train_df), len(val_df), len(test_df)"
   ]
  },
  {
   "cell_type": "markdown",
   "metadata": {},
   "source": [
    "### Cleaning Pipeline"
   ]
  },
  {
   "cell_type": "code",
   "execution_count": 11,
   "metadata": {
    "collapsed": true
   },
   "outputs": [],
   "source": [
    "# 1. Lowercase\n",
    "# 2. Remove numbers and special characters\n",
    "# 3. Remove stop words\n",
    "# 4. Stemming"
   ]
  },
  {
   "cell_type": "code",
   "execution_count": 12,
   "metadata": {},
   "outputs": [],
   "source": [
    "import re\n",
    "import nltk\n",
    "from nltk.corpus import stopwords\n",
    "from nltk.stem import PorterStemmer\n",
    "from nltk.tokenize import word_tokenize\n",
    "stop_words = set(stopwords.words('english'))\n",
    "\n",
    "ps = PorterStemmer()\n",
    "def clean(text):\n",
    "    if not text:\n",
    "        return \"\"\n",
    "    text = text.lower()\n",
    "    text = re.sub(r'[^A-Za-z]+', ' ', text)\n",
    "    word_tokens = word_tokenize(text)\n",
    "    filtered_sentence = list([ps.stem(w) for w in word_tokens if (not w in stop_words and len(w)>1)])\n",
    "    return \" \".join(filtered_sentence)"
   ]
  },
  {
   "cell_type": "markdown",
   "metadata": {},
   "source": [
    "### Pipeline"
   ]
  },
  {
   "cell_type": "code",
   "execution_count": 25,
   "metadata": {
    "collapsed": true
   },
   "outputs": [],
   "source": [
    "def train_pipeline(data_df, vectorizer_, model_):\n",
    "    data_df[\"cleaned_text\"] = data_df.apply(lambda x: clean(x[\"text\"]),axis=1)\n",
    "    features_ = vectorizer_.fit_transform(data_df[\"cleaned_text\"])\n",
    "    model_.fit(features_,data_df[\"class\"])\n",
    "    return vectorizer_, model_"
   ]
  },
  {
   "cell_type": "code",
   "execution_count": 36,
   "metadata": {
    "collapsed": true
   },
   "outputs": [],
   "source": [
    "def test_pipeline(data_df, vectorizer_, model_):\n",
    "    data_df[\"cleaned_text\"] = data_df.apply(lambda x: clean(x[\"text\"]),axis=1)\n",
    "    features = vectorizer_.transform(data_df[\"cleaned_text\"])\n",
    "    return model_.predict(features)"
   ]
  },
  {
   "cell_type": "code",
   "execution_count": 27,
   "metadata": {
    "collapsed": true
   },
   "outputs": [],
   "source": [
    "from sklearn.metrics import accuracy_score\n",
    "def get_accuracy(actual_vals_, predicted_vals_):\n",
    "    return accuracy_score(actual_vals_, predicted_vals_)"
   ]
  },
  {
   "cell_type": "markdown",
   "metadata": {
    "collapsed": true
   },
   "source": [
    "#### Logistic regression - validation"
   ]
  },
  {
   "cell_type": "code",
   "execution_count": 28,
   "metadata": {
    "collapsed": true
   },
   "outputs": [],
   "source": [
    "from sklearn.feature_extraction.text import TfidfVectorizer\n",
    "vectorizer = TfidfVectorizer()\n",
    "from sklearn.linear_model import LogisticRegression\n",
    "lr = LogisticRegression()"
   ]
  },
  {
   "cell_type": "code",
   "execution_count": 29,
   "metadata": {},
   "outputs": [
    {
     "name": "stderr",
     "output_type": "stream",
     "text": [
      "/Users/sharmili/miniconda2/envs/playground/lib/python2.7/site-packages/ipykernel_launcher.py:1: SettingWithCopyWarning: \n",
      "A value is trying to be set on a copy of a slice from a DataFrame.\n",
      "Try using .loc[row_indexer,col_indexer] = value instead\n",
      "\n",
      "See the caveats in the documentation: http://pandas.pydata.org/pandas-docs/stable/indexing.html#indexing-view-versus-copy\n",
      "  \"\"\"Entry point for launching an IPython kernel.\n"
     ]
    }
   ],
   "source": [
    "train_df[\"text\"] = train_df.apply(lambda x: x[\"header\"]+\"\\n\"+x[\"body\"],axis=1)\n",
    "train_df = train_df[[\"text\",\"rating\"]]\n",
    "train_df.columns = [\"text\", \"class\"]"
   ]
  },
  {
   "cell_type": "code",
   "execution_count": 30,
   "metadata": {},
   "outputs": [
    {
     "name": "stderr",
     "output_type": "stream",
     "text": [
      "/Users/sharmili/miniconda2/envs/playground/lib/python2.7/site-packages/ipykernel_launcher.py:2: SettingWithCopyWarning: \n",
      "A value is trying to be set on a copy of a slice from a DataFrame.\n",
      "Try using .loc[row_indexer,col_indexer] = value instead\n",
      "\n",
      "See the caveats in the documentation: http://pandas.pydata.org/pandas-docs/stable/indexing.html#indexing-view-versus-copy\n",
      "  \n"
     ]
    }
   ],
   "source": [
    "vectorizer, lr = train_pipeline(train_df, vectorizer, lr)"
   ]
  },
  {
   "cell_type": "code",
   "execution_count": 31,
   "metadata": {},
   "outputs": [
    {
     "name": "stderr",
     "output_type": "stream",
     "text": [
      "/Users/sharmili/miniconda2/envs/playground/lib/python2.7/site-packages/ipykernel_launcher.py:1: SettingWithCopyWarning: \n",
      "A value is trying to be set on a copy of a slice from a DataFrame.\n",
      "Try using .loc[row_indexer,col_indexer] = value instead\n",
      "\n",
      "See the caveats in the documentation: http://pandas.pydata.org/pandas-docs/stable/indexing.html#indexing-view-versus-copy\n",
      "  \"\"\"Entry point for launching an IPython kernel.\n"
     ]
    }
   ],
   "source": [
    "test_df[\"text\"] = test_df.apply(lambda x: x[\"header\"]+\"\\n\"+x[\"body\"],axis=1)\n",
    "test_df = test_df[[\"text\",\"rating\"]]\n",
    "test_df.columns = [\"text\", \"class\"]"
   ]
  },
  {
   "cell_type": "code",
   "execution_count": 37,
   "metadata": {
    "collapsed": true
   },
   "outputs": [],
   "source": [
    "predictions = test_pipeline(test_df, vectorizer, lr)"
   ]
  },
  {
   "cell_type": "code",
   "execution_count": 38,
   "metadata": {},
   "outputs": [
    {
     "data": {
      "text/plain": [
       "(226,)"
      ]
     },
     "execution_count": 38,
     "metadata": {},
     "output_type": "execute_result"
    }
   ],
   "source": [
    "predictions.shape"
   ]
  },
  {
   "cell_type": "code",
   "execution_count": 39,
   "metadata": {},
   "outputs": [
    {
     "data": {
      "text/plain": [
       "0.71238938053097345"
      ]
     },
     "execution_count": 39,
     "metadata": {},
     "output_type": "execute_result"
    }
   ],
   "source": [
    "get_accuracy(test_df[\"class\"],predictions)"
   ]
  },
  {
   "cell_type": "code",
   "execution_count": 42,
   "metadata": {},
   "outputs": [
    {
     "data": {
      "text/plain": [
       "[u'5.0',\n",
       " u'1.0',\n",
       " u'5.0',\n",
       " u'5.0',\n",
       " u'5.0',\n",
       " u'5.0',\n",
       " u'5.0',\n",
       " u'5.0',\n",
       " u'5.0',\n",
       " u'1.0',\n",
       " u'5.0',\n",
       " u'1.0',\n",
       " u'2.0',\n",
       " u'5.0',\n",
       " u'5.0',\n",
       " u'5.0',\n",
       " u'5.0',\n",
       " u'5.0',\n",
       " u'5.0',\n",
       " u'5.0',\n",
       " u'5.0',\n",
       " u'1.0',\n",
       " u'5.0',\n",
       " u'1.0',\n",
       " u'5.0',\n",
       " u'3.0',\n",
       " u'1.0',\n",
       " u'5.0',\n",
       " u'5.0',\n",
       " u'4.0',\n",
       " u'5.0',\n",
       " u'5.0',\n",
       " u'5.0',\n",
       " u'5.0',\n",
       " u'5.0',\n",
       " u'5.0',\n",
       " u'5.0',\n",
       " u'1.0',\n",
       " u'5.0',\n",
       " u'5.0',\n",
       " u'1.0',\n",
       " u'5.0',\n",
       " u'5.0',\n",
       " u'4.0',\n",
       " u'1.0',\n",
       " u'5.0',\n",
       " u'1.0',\n",
       " u'5.0',\n",
       " u'5.0',\n",
       " u'4.0',\n",
       " u'4.0',\n",
       " u'4.0',\n",
       " u'5.0',\n",
       " u'5.0',\n",
       " u'1.0',\n",
       " u'5.0',\n",
       " u'5.0',\n",
       " u'5.0',\n",
       " u'5.0',\n",
       " u'5.0',\n",
       " u'5.0',\n",
       " u'5.0',\n",
       " u'4.0',\n",
       " u'5.0',\n",
       " u'5.0',\n",
       " u'1.0',\n",
       " u'5.0',\n",
       " u'5.0',\n",
       " u'5.0',\n",
       " u'5.0',\n",
       " u'5.0',\n",
       " u'5.0',\n",
       " u'5.0',\n",
       " u'5.0',\n",
       " u'5.0',\n",
       " u'1.0',\n",
       " u'5.0',\n",
       " u'5.0',\n",
       " u'5.0',\n",
       " u'4.0',\n",
       " u'5.0',\n",
       " u'4.0',\n",
       " u'5.0',\n",
       " u'5.0',\n",
       " u'5.0',\n",
       " u'4.0',\n",
       " u'5.0',\n",
       " u'5.0',\n",
       " u'5.0',\n",
       " u'1.0',\n",
       " u'5.0',\n",
       " u'5.0',\n",
       " u'4.0',\n",
       " u'5.0',\n",
       " u'5.0',\n",
       " u'4.0',\n",
       " u'5.0',\n",
       " u'5.0',\n",
       " u'5.0',\n",
       " u'5.0',\n",
       " u'4.0',\n",
       " u'5.0',\n",
       " u'4.0',\n",
       " u'5.0',\n",
       " u'5.0',\n",
       " u'5.0',\n",
       " u'1.0',\n",
       " u'1.0',\n",
       " u'5.0',\n",
       " u'1.0',\n",
       " u'5.0',\n",
       " u'5.0',\n",
       " u'5.0',\n",
       " u'5.0',\n",
       " u'1.0',\n",
       " u'5.0',\n",
       " u'5.0',\n",
       " u'5.0',\n",
       " u'5.0',\n",
       " u'1.0',\n",
       " u'1.0',\n",
       " u'1.0',\n",
       " u'4.0',\n",
       " u'5.0',\n",
       " u'5.0',\n",
       " u'5.0',\n",
       " u'5.0',\n",
       " u'5.0',\n",
       " u'5.0',\n",
       " u'5.0',\n",
       " u'1.0',\n",
       " u'5.0',\n",
       " u'5.0',\n",
       " u'5.0',\n",
       " u'5.0',\n",
       " u'5.0',\n",
       " u'5.0',\n",
       " u'5.0',\n",
       " u'2.0',\n",
       " u'5.0',\n",
       " u'5.0',\n",
       " u'5.0',\n",
       " u'2.0',\n",
       " u'5.0',\n",
       " u'5.0',\n",
       " u'5.0',\n",
       " u'5.0',\n",
       " u'5.0',\n",
       " u'4.0',\n",
       " u'4.0',\n",
       " u'5.0',\n",
       " u'4.0',\n",
       " u'1.0',\n",
       " u'1.0',\n",
       " u'4.0',\n",
       " u'1.0',\n",
       " u'5.0',\n",
       " u'5.0',\n",
       " u'5.0',\n",
       " u'5.0',\n",
       " u'5.0',\n",
       " u'1.0',\n",
       " u'5.0',\n",
       " u'1.0',\n",
       " u'1.0',\n",
       " u'5.0',\n",
       " u'5.0',\n",
       " u'5.0',\n",
       " u'4.0',\n",
       " u'5.0',\n",
       " u'5.0',\n",
       " u'5.0',\n",
       " u'5.0',\n",
       " u'1.0',\n",
       " u'5.0',\n",
       " u'4.0',\n",
       " u'5.0',\n",
       " u'5.0',\n",
       " u'1.0',\n",
       " u'5.0',\n",
       " u'4.0',\n",
       " u'4.0',\n",
       " u'5.0',\n",
       " u'5.0',\n",
       " u'2.0',\n",
       " u'1.0',\n",
       " u'4.0',\n",
       " u'5.0',\n",
       " u'5.0',\n",
       " u'5.0',\n",
       " u'5.0',\n",
       " u'4.0',\n",
       " u'1.0',\n",
       " u'5.0',\n",
       " u'5.0',\n",
       " u'1.0',\n",
       " u'2.0',\n",
       " u'5.0',\n",
       " u'5.0',\n",
       " u'5.0',\n",
       " u'5.0',\n",
       " u'5.0',\n",
       " u'5.0',\n",
       " u'4.0',\n",
       " u'5.0',\n",
       " u'5.0',\n",
       " u'5.0',\n",
       " u'5.0',\n",
       " u'5.0',\n",
       " u'5.0',\n",
       " u'1.0',\n",
       " u'1.0',\n",
       " u'5.0',\n",
       " u'5.0',\n",
       " u'3.0',\n",
       " u'5.0',\n",
       " u'5.0',\n",
       " u'5.0',\n",
       " u'5.0',\n",
       " u'5.0',\n",
       " u'5.0',\n",
       " u'5.0',\n",
       " u'5.0',\n",
       " u'5.0',\n",
       " u'5.0',\n",
       " u'5.0']"
      ]
     },
     "execution_count": 42,
     "metadata": {},
     "output_type": "execute_result"
    }
   ],
   "source": [
    "list(test_df[\"class\"])"
   ]
  },
  {
   "cell_type": "code",
   "execution_count": 41,
   "metadata": {},
   "outputs": [
    {
     "data": {
      "text/plain": [
       "array([u'5.0', u'5.0', u'5.0', u'5.0', u'5.0', u'5.0', u'5.0', u'5.0',\n",
       "       u'5.0', u'5.0', u'5.0', u'5.0', u'5.0', u'5.0', u'5.0', u'5.0',\n",
       "       u'5.0', u'5.0', u'5.0', u'5.0', u'5.0', u'5.0', u'5.0', u'5.0',\n",
       "       u'5.0', u'5.0', u'5.0', u'5.0', u'5.0', u'5.0', u'5.0', u'5.0',\n",
       "       u'5.0', u'5.0', u'5.0', u'5.0', u'5.0', u'5.0', u'5.0', u'5.0',\n",
       "       u'5.0', u'5.0', u'5.0', u'5.0', u'5.0', u'5.0', u'5.0', u'5.0',\n",
       "       u'5.0', u'5.0', u'5.0', u'5.0', u'5.0', u'5.0', u'1.0', u'5.0',\n",
       "       u'5.0', u'5.0', u'5.0', u'5.0', u'5.0', u'5.0', u'5.0', u'5.0',\n",
       "       u'5.0', u'5.0', u'5.0', u'5.0', u'5.0', u'5.0', u'5.0', u'5.0',\n",
       "       u'5.0', u'5.0', u'5.0', u'5.0', u'5.0', u'5.0', u'5.0', u'5.0',\n",
       "       u'5.0', u'5.0', u'5.0', u'5.0', u'5.0', u'5.0', u'5.0', u'5.0',\n",
       "       u'5.0', u'5.0', u'5.0', u'5.0', u'5.0', u'5.0', u'5.0', u'5.0',\n",
       "       u'5.0', u'5.0', u'5.0', u'5.0', u'5.0', u'5.0', u'5.0', u'5.0',\n",
       "       u'5.0', u'5.0', u'5.0', u'5.0', u'5.0', u'5.0', u'5.0', u'5.0',\n",
       "       u'5.0', u'5.0', u'5.0', u'5.0', u'5.0', u'5.0', u'5.0', u'5.0',\n",
       "       u'5.0', u'5.0', u'5.0', u'5.0', u'5.0', u'5.0', u'5.0', u'5.0',\n",
       "       u'5.0', u'5.0', u'5.0', u'5.0', u'5.0', u'5.0', u'5.0', u'5.0',\n",
       "       u'5.0', u'5.0', u'5.0', u'5.0', u'5.0', u'5.0', u'5.0', u'5.0',\n",
       "       u'5.0', u'5.0', u'5.0', u'5.0', u'5.0', u'5.0', u'5.0', u'5.0',\n",
       "       u'5.0', u'5.0', u'5.0', u'1.0', u'5.0', u'5.0', u'5.0', u'5.0',\n",
       "       u'5.0', u'5.0', u'5.0', u'5.0', u'5.0', u'5.0', u'5.0', u'5.0',\n",
       "       u'5.0', u'5.0', u'5.0', u'5.0', u'5.0', u'5.0', u'5.0', u'5.0',\n",
       "       u'5.0', u'5.0', u'5.0', u'5.0', u'5.0', u'5.0', u'5.0', u'5.0',\n",
       "       u'5.0', u'5.0', u'5.0', u'5.0', u'5.0', u'5.0', u'5.0', u'5.0',\n",
       "       u'5.0', u'5.0', u'5.0', u'5.0', u'5.0', u'5.0', u'5.0', u'5.0',\n",
       "       u'5.0', u'5.0', u'5.0', u'5.0', u'5.0', u'5.0', u'5.0', u'5.0',\n",
       "       u'5.0', u'5.0', u'5.0', u'5.0', u'5.0', u'5.0', u'5.0', u'5.0',\n",
       "       u'5.0', u'5.0', u'5.0', u'5.0', u'5.0', u'5.0', u'5.0', u'5.0',\n",
       "       u'5.0', u'5.0'], dtype=object)"
      ]
     },
     "execution_count": 41,
     "metadata": {},
     "output_type": "execute_result"
    }
   ],
   "source": [
    "predictions"
   ]
  },
  {
   "cell_type": "code",
   "execution_count": null,
   "metadata": {
    "collapsed": true
   },
   "outputs": [],
   "source": []
  }
 ],
 "metadata": {
  "kernelspec": {
   "display_name": "Python 2",
   "language": "python",
   "name": "python2"
  },
  "language_info": {
   "codemirror_mode": {
    "name": "ipython",
    "version": 2
   },
   "file_extension": ".py",
   "mimetype": "text/x-python",
   "name": "python",
   "nbconvert_exporter": "python",
   "pygments_lexer": "ipython2",
   "version": "2.7.13"
  }
 },
 "nbformat": 4,
 "nbformat_minor": 2
}
