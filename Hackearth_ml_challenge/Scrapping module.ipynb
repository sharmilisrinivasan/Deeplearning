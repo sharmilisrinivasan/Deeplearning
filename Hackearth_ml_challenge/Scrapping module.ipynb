{
 "cells": [
  {
   "cell_type": "code",
   "execution_count": 1,
   "metadata": {
    "collapsed": true
   },
   "outputs": [],
   "source": [
    "import requests\n",
    "from lxml import html"
   ]
  },
  {
   "cell_type": "code",
   "execution_count": 2,
   "metadata": {
    "collapsed": true
   },
   "outputs": [],
   "source": [
    "base_url = \"https://www.amazon.in/Apple-iPhone-X-64GB-Silver/product-reviews/B0711T2L8K?pageNumber=\""
   ]
  },
  {
   "cell_type": "code",
   "execution_count": 3,
   "metadata": {
    "collapsed": true
   },
   "outputs": [],
   "source": [
    "headers = {'User-Agent': 'Mozilla/5.0 (Macintosh; Intel Mac OS X 10_12_2) AppleWebKit/537.36 (KHTML, like Gecko) Chrome/72.0.3626.109 Safari/537.36'}"
   ]
  },
  {
   "cell_type": "code",
   "execution_count": 4,
   "metadata": {
    "collapsed": true
   },
   "outputs": [],
   "source": [
    "XPATH_REVIEW_SECTION ='//div[@data-hook=\"review\"]'\n",
    "XPATH_AUTHOR = './/span[contains(@class,\"profile-name\")]//text()'\n",
    "XPATH_REVIEW_POSTED_DATE = './/span[@data-hook=\"review-date\"]//text()'\n",
    "XPATH_COLOUR_SIZE = './/a[@data-hook=\"format-strip\"]//text()'\n",
    "XPATH_VERIFIED_PURCHASE = './/span[@data-hook=\"avp-badge\"]//text()'\n",
    "XPATH_RATING  = './/i[@data-hook=\"review-star-rating\"]//text()'\n",
    "XPATH_REVIEW_HEADER = './/a[@data-hook=\"review-title\"]//text()'\n",
    "XPATH_REVIEW_BODY = './/span[@data-hook=\"review-body\"]//text()'"
   ]
  },
  {
   "cell_type": "code",
   "execution_count": 5,
   "metadata": {},
   "outputs": [
    {
     "name": "stdout",
     "output_type": "stream",
     "text": [
      "Processing: https://www.amazon.in/Apple-iPhone-X-64GB-Silver/product-reviews/B0711T2L8K?pageNumber=1\n"
     ]
    },
    {
     "name": "stderr",
     "output_type": "stream",
     "text": [
      "/Users/sharmili/miniconda2/envs/playground/lib/python2.7/site-packages/urllib3/connectionpool.py:858: InsecureRequestWarning: Unverified HTTPS request is being made. Adding certificate verification is strongly advised. See: https://urllib3.readthedocs.io/en/latest/advanced-usage.html#ssl-warnings\n",
      "  InsecureRequestWarning)\n"
     ]
    },
    {
     "name": "stdout",
     "output_type": "stream",
     "text": [
      "Number of reviews: 8\n",
      "Len of reviews collection: 8\n",
      "------------------------------------------------------------------------------\n",
      "Processing: https://www.amazon.in/Apple-iPhone-X-64GB-Silver/product-reviews/B0711T2L8K?pageNumber=2\n"
     ]
    },
    {
     "name": "stderr",
     "output_type": "stream",
     "text": [
      "/Users/sharmili/miniconda2/envs/playground/lib/python2.7/site-packages/urllib3/connectionpool.py:858: InsecureRequestWarning: Unverified HTTPS request is being made. Adding certificate verification is strongly advised. See: https://urllib3.readthedocs.io/en/latest/advanced-usage.html#ssl-warnings\n",
      "  InsecureRequestWarning)\n"
     ]
    },
    {
     "name": "stdout",
     "output_type": "stream",
     "text": [
      "Number of reviews: 8\n",
      "Len of reviews collection: 16\n",
      "------------------------------------------------------------------------------\n",
      "Processing: https://www.amazon.in/Apple-iPhone-X-64GB-Silver/product-reviews/B0711T2L8K?pageNumber=3\n"
     ]
    },
    {
     "name": "stderr",
     "output_type": "stream",
     "text": [
      "/Users/sharmili/miniconda2/envs/playground/lib/python2.7/site-packages/urllib3/connectionpool.py:858: InsecureRequestWarning: Unverified HTTPS request is being made. Adding certificate verification is strongly advised. See: https://urllib3.readthedocs.io/en/latest/advanced-usage.html#ssl-warnings\n",
      "  InsecureRequestWarning)\n"
     ]
    },
    {
     "name": "stdout",
     "output_type": "stream",
     "text": [
      "Number of reviews: 8\n",
      "Len of reviews collection: 24\n",
      "------------------------------------------------------------------------------\n",
      "Processing: https://www.amazon.in/Apple-iPhone-X-64GB-Silver/product-reviews/B0711T2L8K?pageNumber=4\n"
     ]
    },
    {
     "name": "stderr",
     "output_type": "stream",
     "text": [
      "/Users/sharmili/miniconda2/envs/playground/lib/python2.7/site-packages/urllib3/connectionpool.py:858: InsecureRequestWarning: Unverified HTTPS request is being made. Adding certificate verification is strongly advised. See: https://urllib3.readthedocs.io/en/latest/advanced-usage.html#ssl-warnings\n",
      "  InsecureRequestWarning)\n"
     ]
    },
    {
     "name": "stdout",
     "output_type": "stream",
     "text": [
      "Number of reviews: 8\n",
      "Len of reviews collection: 32\n",
      "------------------------------------------------------------------------------\n",
      "Processing: https://www.amazon.in/Apple-iPhone-X-64GB-Silver/product-reviews/B0711T2L8K?pageNumber=5\n"
     ]
    },
    {
     "name": "stderr",
     "output_type": "stream",
     "text": [
      "/Users/sharmili/miniconda2/envs/playground/lib/python2.7/site-packages/urllib3/connectionpool.py:858: InsecureRequestWarning: Unverified HTTPS request is being made. Adding certificate verification is strongly advised. See: https://urllib3.readthedocs.io/en/latest/advanced-usage.html#ssl-warnings\n",
      "  InsecureRequestWarning)\n"
     ]
    },
    {
     "name": "stdout",
     "output_type": "stream",
     "text": [
      "Number of reviews: 8\n",
      "Len of reviews collection: 40\n",
      "------------------------------------------------------------------------------\n",
      "Processing: https://www.amazon.in/Apple-iPhone-X-64GB-Silver/product-reviews/B0711T2L8K?pageNumber=6\n"
     ]
    },
    {
     "name": "stderr",
     "output_type": "stream",
     "text": [
      "/Users/sharmili/miniconda2/envs/playground/lib/python2.7/site-packages/urllib3/connectionpool.py:858: InsecureRequestWarning: Unverified HTTPS request is being made. Adding certificate verification is strongly advised. See: https://urllib3.readthedocs.io/en/latest/advanced-usage.html#ssl-warnings\n",
      "  InsecureRequestWarning)\n"
     ]
    },
    {
     "name": "stdout",
     "output_type": "stream",
     "text": [
      "Number of reviews: 8\n",
      "Len of reviews collection: 48\n",
      "------------------------------------------------------------------------------\n",
      "Processing: https://www.amazon.in/Apple-iPhone-X-64GB-Silver/product-reviews/B0711T2L8K?pageNumber=7\n"
     ]
    },
    {
     "name": "stderr",
     "output_type": "stream",
     "text": [
      "/Users/sharmili/miniconda2/envs/playground/lib/python2.7/site-packages/urllib3/connectionpool.py:858: InsecureRequestWarning: Unverified HTTPS request is being made. Adding certificate verification is strongly advised. See: https://urllib3.readthedocs.io/en/latest/advanced-usage.html#ssl-warnings\n",
      "  InsecureRequestWarning)\n"
     ]
    },
    {
     "name": "stdout",
     "output_type": "stream",
     "text": [
      "Number of reviews: 8\n",
      "Len of reviews collection: 56\n",
      "------------------------------------------------------------------------------\n",
      "Processing: https://www.amazon.in/Apple-iPhone-X-64GB-Silver/product-reviews/B0711T2L8K?pageNumber=8\n"
     ]
    },
    {
     "name": "stderr",
     "output_type": "stream",
     "text": [
      "/Users/sharmili/miniconda2/envs/playground/lib/python2.7/site-packages/urllib3/connectionpool.py:858: InsecureRequestWarning: Unverified HTTPS request is being made. Adding certificate verification is strongly advised. See: https://urllib3.readthedocs.io/en/latest/advanced-usage.html#ssl-warnings\n",
      "  InsecureRequestWarning)\n"
     ]
    },
    {
     "name": "stdout",
     "output_type": "stream",
     "text": [
      "Number of reviews: 8\n",
      "Len of reviews collection: 64\n",
      "------------------------------------------------------------------------------\n",
      "Processing: https://www.amazon.in/Apple-iPhone-X-64GB-Silver/product-reviews/B0711T2L8K?pageNumber=9\n"
     ]
    },
    {
     "name": "stderr",
     "output_type": "stream",
     "text": [
      "/Users/sharmili/miniconda2/envs/playground/lib/python2.7/site-packages/urllib3/connectionpool.py:858: InsecureRequestWarning: Unverified HTTPS request is being made. Adding certificate verification is strongly advised. See: https://urllib3.readthedocs.io/en/latest/advanced-usage.html#ssl-warnings\n",
      "  InsecureRequestWarning)\n"
     ]
    },
    {
     "name": "stdout",
     "output_type": "stream",
     "text": [
      "Number of reviews: 8\n",
      "Len of reviews collection: 72\n",
      "------------------------------------------------------------------------------\n",
      "Processing: https://www.amazon.in/Apple-iPhone-X-64GB-Silver/product-reviews/B0711T2L8K?pageNumber=10\n"
     ]
    },
    {
     "name": "stderr",
     "output_type": "stream",
     "text": [
      "/Users/sharmili/miniconda2/envs/playground/lib/python2.7/site-packages/urllib3/connectionpool.py:858: InsecureRequestWarning: Unverified HTTPS request is being made. Adding certificate verification is strongly advised. See: https://urllib3.readthedocs.io/en/latest/advanced-usage.html#ssl-warnings\n",
      "  InsecureRequestWarning)\n"
     ]
    },
    {
     "name": "stdout",
     "output_type": "stream",
     "text": [
      "Number of reviews: 8\n",
      "Len of reviews collection: 80\n",
      "------------------------------------------------------------------------------\n",
      "Processing: https://www.amazon.in/Apple-iPhone-X-64GB-Silver/product-reviews/B0711T2L8K?pageNumber=11\n"
     ]
    },
    {
     "name": "stderr",
     "output_type": "stream",
     "text": [
      "/Users/sharmili/miniconda2/envs/playground/lib/python2.7/site-packages/urllib3/connectionpool.py:858: InsecureRequestWarning: Unverified HTTPS request is being made. Adding certificate verification is strongly advised. See: https://urllib3.readthedocs.io/en/latest/advanced-usage.html#ssl-warnings\n",
      "  InsecureRequestWarning)\n"
     ]
    },
    {
     "name": "stdout",
     "output_type": "stream",
     "text": [
      "Number of reviews: 8\n",
      "Len of reviews collection: 88\n",
      "------------------------------------------------------------------------------\n",
      "Processing: https://www.amazon.in/Apple-iPhone-X-64GB-Silver/product-reviews/B0711T2L8K?pageNumber=12\n"
     ]
    },
    {
     "name": "stderr",
     "output_type": "stream",
     "text": [
      "/Users/sharmili/miniconda2/envs/playground/lib/python2.7/site-packages/urllib3/connectionpool.py:858: InsecureRequestWarning: Unverified HTTPS request is being made. Adding certificate verification is strongly advised. See: https://urllib3.readthedocs.io/en/latest/advanced-usage.html#ssl-warnings\n",
      "  InsecureRequestWarning)\n"
     ]
    },
    {
     "name": "stdout",
     "output_type": "stream",
     "text": [
      "Number of reviews: 8\n",
      "Len of reviews collection: 96\n",
      "------------------------------------------------------------------------------\n",
      "Processing: https://www.amazon.in/Apple-iPhone-X-64GB-Silver/product-reviews/B0711T2L8K?pageNumber=13\n"
     ]
    },
    {
     "name": "stderr",
     "output_type": "stream",
     "text": [
      "/Users/sharmili/miniconda2/envs/playground/lib/python2.7/site-packages/urllib3/connectionpool.py:858: InsecureRequestWarning: Unverified HTTPS request is being made. Adding certificate verification is strongly advised. See: https://urllib3.readthedocs.io/en/latest/advanced-usage.html#ssl-warnings\n",
      "  InsecureRequestWarning)\n"
     ]
    },
    {
     "name": "stdout",
     "output_type": "stream",
     "text": [
      "Number of reviews: 8\n",
      "Len of reviews collection: 104\n",
      "------------------------------------------------------------------------------\n",
      "Processing: https://www.amazon.in/Apple-iPhone-X-64GB-Silver/product-reviews/B0711T2L8K?pageNumber=14\n"
     ]
    },
    {
     "name": "stderr",
     "output_type": "stream",
     "text": [
      "/Users/sharmili/miniconda2/envs/playground/lib/python2.7/site-packages/urllib3/connectionpool.py:858: InsecureRequestWarning: Unverified HTTPS request is being made. Adding certificate verification is strongly advised. See: https://urllib3.readthedocs.io/en/latest/advanced-usage.html#ssl-warnings\n",
      "  InsecureRequestWarning)\n"
     ]
    },
    {
     "name": "stdout",
     "output_type": "stream",
     "text": [
      "Number of reviews: 8\n",
      "Len of reviews collection: 112\n",
      "------------------------------------------------------------------------------\n",
      "Processing: https://www.amazon.in/Apple-iPhone-X-64GB-Silver/product-reviews/B0711T2L8K?pageNumber=15\n"
     ]
    },
    {
     "name": "stderr",
     "output_type": "stream",
     "text": [
      "/Users/sharmili/miniconda2/envs/playground/lib/python2.7/site-packages/urllib3/connectionpool.py:858: InsecureRequestWarning: Unverified HTTPS request is being made. Adding certificate verification is strongly advised. See: https://urllib3.readthedocs.io/en/latest/advanced-usage.html#ssl-warnings\n",
      "  InsecureRequestWarning)\n"
     ]
    },
    {
     "name": "stdout",
     "output_type": "stream",
     "text": [
      "Number of reviews: 8\n",
      "Len of reviews collection: 120\n",
      "------------------------------------------------------------------------------\n",
      "Processing: https://www.amazon.in/Apple-iPhone-X-64GB-Silver/product-reviews/B0711T2L8K?pageNumber=16\n"
     ]
    },
    {
     "name": "stderr",
     "output_type": "stream",
     "text": [
      "/Users/sharmili/miniconda2/envs/playground/lib/python2.7/site-packages/urllib3/connectionpool.py:858: InsecureRequestWarning: Unverified HTTPS request is being made. Adding certificate verification is strongly advised. See: https://urllib3.readthedocs.io/en/latest/advanced-usage.html#ssl-warnings\n",
      "  InsecureRequestWarning)\n"
     ]
    },
    {
     "name": "stdout",
     "output_type": "stream",
     "text": [
      "Number of reviews: 8\n",
      "Len of reviews collection: 128\n",
      "------------------------------------------------------------------------------\n",
      "Processing: https://www.amazon.in/Apple-iPhone-X-64GB-Silver/product-reviews/B0711T2L8K?pageNumber=17\n"
     ]
    },
    {
     "name": "stderr",
     "output_type": "stream",
     "text": [
      "/Users/sharmili/miniconda2/envs/playground/lib/python2.7/site-packages/urllib3/connectionpool.py:858: InsecureRequestWarning: Unverified HTTPS request is being made. Adding certificate verification is strongly advised. See: https://urllib3.readthedocs.io/en/latest/advanced-usage.html#ssl-warnings\n",
      "  InsecureRequestWarning)\n"
     ]
    },
    {
     "name": "stdout",
     "output_type": "stream",
     "text": [
      "Number of reviews: 8\n",
      "Len of reviews collection: 136\n",
      "------------------------------------------------------------------------------\n",
      "Processing: https://www.amazon.in/Apple-iPhone-X-64GB-Silver/product-reviews/B0711T2L8K?pageNumber=18\n"
     ]
    },
    {
     "name": "stderr",
     "output_type": "stream",
     "text": [
      "/Users/sharmili/miniconda2/envs/playground/lib/python2.7/site-packages/urllib3/connectionpool.py:858: InsecureRequestWarning: Unverified HTTPS request is being made. Adding certificate verification is strongly advised. See: https://urllib3.readthedocs.io/en/latest/advanced-usage.html#ssl-warnings\n",
      "  InsecureRequestWarning)\n"
     ]
    },
    {
     "name": "stdout",
     "output_type": "stream",
     "text": [
      "Number of reviews: 8\n",
      "Len of reviews collection: 144\n",
      "------------------------------------------------------------------------------\n",
      "Processing: https://www.amazon.in/Apple-iPhone-X-64GB-Silver/product-reviews/B0711T2L8K?pageNumber=19\n"
     ]
    },
    {
     "name": "stderr",
     "output_type": "stream",
     "text": [
      "/Users/sharmili/miniconda2/envs/playground/lib/python2.7/site-packages/urllib3/connectionpool.py:858: InsecureRequestWarning: Unverified HTTPS request is being made. Adding certificate verification is strongly advised. See: https://urllib3.readthedocs.io/en/latest/advanced-usage.html#ssl-warnings\n",
      "  InsecureRequestWarning)\n"
     ]
    },
    {
     "name": "stdout",
     "output_type": "stream",
     "text": [
      "Number of reviews: 8\n",
      "Len of reviews collection: 152\n",
      "------------------------------------------------------------------------------\n",
      "Processing: https://www.amazon.in/Apple-iPhone-X-64GB-Silver/product-reviews/B0711T2L8K?pageNumber=20\n"
     ]
    },
    {
     "name": "stderr",
     "output_type": "stream",
     "text": [
      "/Users/sharmili/miniconda2/envs/playground/lib/python2.7/site-packages/urllib3/connectionpool.py:858: InsecureRequestWarning: Unverified HTTPS request is being made. Adding certificate verification is strongly advised. See: https://urllib3.readthedocs.io/en/latest/advanced-usage.html#ssl-warnings\n",
      "  InsecureRequestWarning)\n"
     ]
    },
    {
     "name": "stdout",
     "output_type": "stream",
     "text": [
      "Number of reviews: 8\n",
      "Len of reviews collection: 160\n",
      "------------------------------------------------------------------------------\n",
      "Processing: https://www.amazon.in/Apple-iPhone-X-64GB-Silver/product-reviews/B0711T2L8K?pageNumber=21\n"
     ]
    },
    {
     "name": "stderr",
     "output_type": "stream",
     "text": [
      "/Users/sharmili/miniconda2/envs/playground/lib/python2.7/site-packages/urllib3/connectionpool.py:858: InsecureRequestWarning: Unverified HTTPS request is being made. Adding certificate verification is strongly advised. See: https://urllib3.readthedocs.io/en/latest/advanced-usage.html#ssl-warnings\n",
      "  InsecureRequestWarning)\n"
     ]
    },
    {
     "name": "stdout",
     "output_type": "stream",
     "text": [
      "Number of reviews: 8\n",
      "Len of reviews collection: 168\n",
      "------------------------------------------------------------------------------\n",
      "Processing: https://www.amazon.in/Apple-iPhone-X-64GB-Silver/product-reviews/B0711T2L8K?pageNumber=22\n"
     ]
    },
    {
     "name": "stderr",
     "output_type": "stream",
     "text": [
      "/Users/sharmili/miniconda2/envs/playground/lib/python2.7/site-packages/urllib3/connectionpool.py:858: InsecureRequestWarning: Unverified HTTPS request is being made. Adding certificate verification is strongly advised. See: https://urllib3.readthedocs.io/en/latest/advanced-usage.html#ssl-warnings\n",
      "  InsecureRequestWarning)\n"
     ]
    },
    {
     "name": "stdout",
     "output_type": "stream",
     "text": [
      "Number of reviews: 8\n",
      "Len of reviews collection: 176\n",
      "------------------------------------------------------------------------------\n",
      "Processing: https://www.amazon.in/Apple-iPhone-X-64GB-Silver/product-reviews/B0711T2L8K?pageNumber=23\n"
     ]
    },
    {
     "name": "stderr",
     "output_type": "stream",
     "text": [
      "/Users/sharmili/miniconda2/envs/playground/lib/python2.7/site-packages/urllib3/connectionpool.py:858: InsecureRequestWarning: Unverified HTTPS request is being made. Adding certificate verification is strongly advised. See: https://urllib3.readthedocs.io/en/latest/advanced-usage.html#ssl-warnings\n",
      "  InsecureRequestWarning)\n"
     ]
    },
    {
     "name": "stdout",
     "output_type": "stream",
     "text": [
      "Number of reviews: 8\n",
      "Len of reviews collection: 184\n",
      "------------------------------------------------------------------------------\n",
      "Processing: https://www.amazon.in/Apple-iPhone-X-64GB-Silver/product-reviews/B0711T2L8K?pageNumber=24\n"
     ]
    },
    {
     "name": "stderr",
     "output_type": "stream",
     "text": [
      "/Users/sharmili/miniconda2/envs/playground/lib/python2.7/site-packages/urllib3/connectionpool.py:858: InsecureRequestWarning: Unverified HTTPS request is being made. Adding certificate verification is strongly advised. See: https://urllib3.readthedocs.io/en/latest/advanced-usage.html#ssl-warnings\n",
      "  InsecureRequestWarning)\n"
     ]
    },
    {
     "name": "stdout",
     "output_type": "stream",
     "text": [
      "Number of reviews: 8\n",
      "Len of reviews collection: 192\n",
      "------------------------------------------------------------------------------\n",
      "Processing: https://www.amazon.in/Apple-iPhone-X-64GB-Silver/product-reviews/B0711T2L8K?pageNumber=25\n"
     ]
    },
    {
     "name": "stderr",
     "output_type": "stream",
     "text": [
      "/Users/sharmili/miniconda2/envs/playground/lib/python2.7/site-packages/urllib3/connectionpool.py:858: InsecureRequestWarning: Unverified HTTPS request is being made. Adding certificate verification is strongly advised. See: https://urllib3.readthedocs.io/en/latest/advanced-usage.html#ssl-warnings\n",
      "  InsecureRequestWarning)\n"
     ]
    },
    {
     "name": "stdout",
     "output_type": "stream",
     "text": [
      "Number of reviews: 8\n",
      "Len of reviews collection: 200\n",
      "------------------------------------------------------------------------------\n",
      "Processing: https://www.amazon.in/Apple-iPhone-X-64GB-Silver/product-reviews/B0711T2L8K?pageNumber=26\n"
     ]
    },
    {
     "name": "stderr",
     "output_type": "stream",
     "text": [
      "/Users/sharmili/miniconda2/envs/playground/lib/python2.7/site-packages/urllib3/connectionpool.py:858: InsecureRequestWarning: Unverified HTTPS request is being made. Adding certificate verification is strongly advised. See: https://urllib3.readthedocs.io/en/latest/advanced-usage.html#ssl-warnings\n",
      "  InsecureRequestWarning)\n"
     ]
    },
    {
     "name": "stdout",
     "output_type": "stream",
     "text": [
      "Number of reviews: 8\n",
      "Len of reviews collection: 208\n",
      "------------------------------------------------------------------------------\n",
      "Processing: https://www.amazon.in/Apple-iPhone-X-64GB-Silver/product-reviews/B0711T2L8K?pageNumber=27\n"
     ]
    },
    {
     "name": "stderr",
     "output_type": "stream",
     "text": [
      "/Users/sharmili/miniconda2/envs/playground/lib/python2.7/site-packages/urllib3/connectionpool.py:858: InsecureRequestWarning: Unverified HTTPS request is being made. Adding certificate verification is strongly advised. See: https://urllib3.readthedocs.io/en/latest/advanced-usage.html#ssl-warnings\n",
      "  InsecureRequestWarning)\n"
     ]
    },
    {
     "name": "stdout",
     "output_type": "stream",
     "text": [
      "Number of reviews: 8\n",
      "Len of reviews collection: 216\n",
      "------------------------------------------------------------------------------\n",
      "Processing: https://www.amazon.in/Apple-iPhone-X-64GB-Silver/product-reviews/B0711T2L8K?pageNumber=28\n"
     ]
    },
    {
     "name": "stderr",
     "output_type": "stream",
     "text": [
      "/Users/sharmili/miniconda2/envs/playground/lib/python2.7/site-packages/urllib3/connectionpool.py:858: InsecureRequestWarning: Unverified HTTPS request is being made. Adding certificate verification is strongly advised. See: https://urllib3.readthedocs.io/en/latest/advanced-usage.html#ssl-warnings\n",
      "  InsecureRequestWarning)\n"
     ]
    },
    {
     "name": "stdout",
     "output_type": "stream",
     "text": [
      "Number of reviews: 8\n",
      "Len of reviews collection: 224\n",
      "------------------------------------------------------------------------------\n",
      "Processing: https://www.amazon.in/Apple-iPhone-X-64GB-Silver/product-reviews/B0711T2L8K?pageNumber=29\n"
     ]
    },
    {
     "name": "stderr",
     "output_type": "stream",
     "text": [
      "/Users/sharmili/miniconda2/envs/playground/lib/python2.7/site-packages/urllib3/connectionpool.py:858: InsecureRequestWarning: Unverified HTTPS request is being made. Adding certificate verification is strongly advised. See: https://urllib3.readthedocs.io/en/latest/advanced-usage.html#ssl-warnings\n",
      "  InsecureRequestWarning)\n"
     ]
    },
    {
     "name": "stdout",
     "output_type": "stream",
     "text": [
      "Number of reviews: 8\n",
      "Len of reviews collection: 232\n",
      "------------------------------------------------------------------------------\n",
      "Processing: https://www.amazon.in/Apple-iPhone-X-64GB-Silver/product-reviews/B0711T2L8K?pageNumber=30\n"
     ]
    },
    {
     "name": "stderr",
     "output_type": "stream",
     "text": [
      "/Users/sharmili/miniconda2/envs/playground/lib/python2.7/site-packages/urllib3/connectionpool.py:858: InsecureRequestWarning: Unverified HTTPS request is being made. Adding certificate verification is strongly advised. See: https://urllib3.readthedocs.io/en/latest/advanced-usage.html#ssl-warnings\n",
      "  InsecureRequestWarning)\n"
     ]
    },
    {
     "name": "stdout",
     "output_type": "stream",
     "text": [
      "Number of reviews: 8\n",
      "Len of reviews collection: 240\n",
      "------------------------------------------------------------------------------\n",
      "Processing: https://www.amazon.in/Apple-iPhone-X-64GB-Silver/product-reviews/B0711T2L8K?pageNumber=31\n"
     ]
    },
    {
     "name": "stderr",
     "output_type": "stream",
     "text": [
      "/Users/sharmili/miniconda2/envs/playground/lib/python2.7/site-packages/urllib3/connectionpool.py:858: InsecureRequestWarning: Unverified HTTPS request is being made. Adding certificate verification is strongly advised. See: https://urllib3.readthedocs.io/en/latest/advanced-usage.html#ssl-warnings\n",
      "  InsecureRequestWarning)\n"
     ]
    },
    {
     "name": "stdout",
     "output_type": "stream",
     "text": [
      "Number of reviews: 8\n",
      "Len of reviews collection: 248\n",
      "------------------------------------------------------------------------------\n",
      "Processing: https://www.amazon.in/Apple-iPhone-X-64GB-Silver/product-reviews/B0711T2L8K?pageNumber=32\n"
     ]
    },
    {
     "name": "stderr",
     "output_type": "stream",
     "text": [
      "/Users/sharmili/miniconda2/envs/playground/lib/python2.7/site-packages/urllib3/connectionpool.py:858: InsecureRequestWarning: Unverified HTTPS request is being made. Adding certificate verification is strongly advised. See: https://urllib3.readthedocs.io/en/latest/advanced-usage.html#ssl-warnings\n",
      "  InsecureRequestWarning)\n"
     ]
    },
    {
     "name": "stdout",
     "output_type": "stream",
     "text": [
      "Number of reviews: 8\n",
      "Len of reviews collection: 256\n",
      "------------------------------------------------------------------------------\n",
      "Processing: https://www.amazon.in/Apple-iPhone-X-64GB-Silver/product-reviews/B0711T2L8K?pageNumber=33\n"
     ]
    },
    {
     "name": "stderr",
     "output_type": "stream",
     "text": [
      "/Users/sharmili/miniconda2/envs/playground/lib/python2.7/site-packages/urllib3/connectionpool.py:858: InsecureRequestWarning: Unverified HTTPS request is being made. Adding certificate verification is strongly advised. See: https://urllib3.readthedocs.io/en/latest/advanced-usage.html#ssl-warnings\n",
      "  InsecureRequestWarning)\n"
     ]
    },
    {
     "name": "stdout",
     "output_type": "stream",
     "text": [
      "Number of reviews: 8\n",
      "Len of reviews collection: 264\n",
      "------------------------------------------------------------------------------\n",
      "Processing: https://www.amazon.in/Apple-iPhone-X-64GB-Silver/product-reviews/B0711T2L8K?pageNumber=34\n"
     ]
    },
    {
     "name": "stderr",
     "output_type": "stream",
     "text": [
      "/Users/sharmili/miniconda2/envs/playground/lib/python2.7/site-packages/urllib3/connectionpool.py:858: InsecureRequestWarning: Unverified HTTPS request is being made. Adding certificate verification is strongly advised. See: https://urllib3.readthedocs.io/en/latest/advanced-usage.html#ssl-warnings\n",
      "  InsecureRequestWarning)\n"
     ]
    },
    {
     "name": "stdout",
     "output_type": "stream",
     "text": [
      "Number of reviews: 8\n",
      "Len of reviews collection: 272\n",
      "------------------------------------------------------------------------------\n",
      "Processing: https://www.amazon.in/Apple-iPhone-X-64GB-Silver/product-reviews/B0711T2L8K?pageNumber=35\n"
     ]
    },
    {
     "name": "stderr",
     "output_type": "stream",
     "text": [
      "/Users/sharmili/miniconda2/envs/playground/lib/python2.7/site-packages/urllib3/connectionpool.py:858: InsecureRequestWarning: Unverified HTTPS request is being made. Adding certificate verification is strongly advised. See: https://urllib3.readthedocs.io/en/latest/advanced-usage.html#ssl-warnings\n",
      "  InsecureRequestWarning)\n"
     ]
    },
    {
     "name": "stdout",
     "output_type": "stream",
     "text": [
      "Number of reviews: 8\n",
      "Len of reviews collection: 280\n",
      "------------------------------------------------------------------------------\n",
      "Processing: https://www.amazon.in/Apple-iPhone-X-64GB-Silver/product-reviews/B0711T2L8K?pageNumber=36\n"
     ]
    },
    {
     "name": "stderr",
     "output_type": "stream",
     "text": [
      "/Users/sharmili/miniconda2/envs/playground/lib/python2.7/site-packages/urllib3/connectionpool.py:858: InsecureRequestWarning: Unverified HTTPS request is being made. Adding certificate verification is strongly advised. See: https://urllib3.readthedocs.io/en/latest/advanced-usage.html#ssl-warnings\n",
      "  InsecureRequestWarning)\n"
     ]
    },
    {
     "name": "stdout",
     "output_type": "stream",
     "text": [
      "Number of reviews: 8\n",
      "Len of reviews collection: 288\n",
      "------------------------------------------------------------------------------\n",
      "Processing: https://www.amazon.in/Apple-iPhone-X-64GB-Silver/product-reviews/B0711T2L8K?pageNumber=37\n"
     ]
    },
    {
     "name": "stderr",
     "output_type": "stream",
     "text": [
      "/Users/sharmili/miniconda2/envs/playground/lib/python2.7/site-packages/urllib3/connectionpool.py:858: InsecureRequestWarning: Unverified HTTPS request is being made. Adding certificate verification is strongly advised. See: https://urllib3.readthedocs.io/en/latest/advanced-usage.html#ssl-warnings\n",
      "  InsecureRequestWarning)\n"
     ]
    },
    {
     "name": "stdout",
     "output_type": "stream",
     "text": [
      "Number of reviews: 8\n",
      "Len of reviews collection: 296\n",
      "------------------------------------------------------------------------------\n",
      "Processing: https://www.amazon.in/Apple-iPhone-X-64GB-Silver/product-reviews/B0711T2L8K?pageNumber=38\n"
     ]
    },
    {
     "name": "stderr",
     "output_type": "stream",
     "text": [
      "/Users/sharmili/miniconda2/envs/playground/lib/python2.7/site-packages/urllib3/connectionpool.py:858: InsecureRequestWarning: Unverified HTTPS request is being made. Adding certificate verification is strongly advised. See: https://urllib3.readthedocs.io/en/latest/advanced-usage.html#ssl-warnings\n",
      "  InsecureRequestWarning)\n"
     ]
    },
    {
     "name": "stdout",
     "output_type": "stream",
     "text": [
      "Number of reviews: 8\n",
      "Len of reviews collection: 304\n",
      "------------------------------------------------------------------------------\n",
      "Processing: https://www.amazon.in/Apple-iPhone-X-64GB-Silver/product-reviews/B0711T2L8K?pageNumber=39\n"
     ]
    },
    {
     "name": "stderr",
     "output_type": "stream",
     "text": [
      "/Users/sharmili/miniconda2/envs/playground/lib/python2.7/site-packages/urllib3/connectionpool.py:858: InsecureRequestWarning: Unverified HTTPS request is being made. Adding certificate verification is strongly advised. See: https://urllib3.readthedocs.io/en/latest/advanced-usage.html#ssl-warnings\n",
      "  InsecureRequestWarning)\n"
     ]
    },
    {
     "name": "stdout",
     "output_type": "stream",
     "text": [
      "Number of reviews: 8\n",
      "Len of reviews collection: 312\n",
      "------------------------------------------------------------------------------\n",
      "Processing: https://www.amazon.in/Apple-iPhone-X-64GB-Silver/product-reviews/B0711T2L8K?pageNumber=40\n"
     ]
    },
    {
     "name": "stderr",
     "output_type": "stream",
     "text": [
      "/Users/sharmili/miniconda2/envs/playground/lib/python2.7/site-packages/urllib3/connectionpool.py:858: InsecureRequestWarning: Unverified HTTPS request is being made. Adding certificate verification is strongly advised. See: https://urllib3.readthedocs.io/en/latest/advanced-usage.html#ssl-warnings\n",
      "  InsecureRequestWarning)\n"
     ]
    },
    {
     "name": "stdout",
     "output_type": "stream",
     "text": [
      "Number of reviews: 8\n",
      "Len of reviews collection: 320\n",
      "------------------------------------------------------------------------------\n",
      "Processing: https://www.amazon.in/Apple-iPhone-X-64GB-Silver/product-reviews/B0711T2L8K?pageNumber=41\n"
     ]
    },
    {
     "name": "stderr",
     "output_type": "stream",
     "text": [
      "/Users/sharmili/miniconda2/envs/playground/lib/python2.7/site-packages/urllib3/connectionpool.py:858: InsecureRequestWarning: Unverified HTTPS request is being made. Adding certificate verification is strongly advised. See: https://urllib3.readthedocs.io/en/latest/advanced-usage.html#ssl-warnings\n",
      "  InsecureRequestWarning)\n"
     ]
    },
    {
     "name": "stdout",
     "output_type": "stream",
     "text": [
      "Number of reviews: 8\n",
      "Len of reviews collection: 328\n",
      "------------------------------------------------------------------------------\n",
      "Processing: https://www.amazon.in/Apple-iPhone-X-64GB-Silver/product-reviews/B0711T2L8K?pageNumber=42\n"
     ]
    },
    {
     "name": "stderr",
     "output_type": "stream",
     "text": [
      "/Users/sharmili/miniconda2/envs/playground/lib/python2.7/site-packages/urllib3/connectionpool.py:858: InsecureRequestWarning: Unverified HTTPS request is being made. Adding certificate verification is strongly advised. See: https://urllib3.readthedocs.io/en/latest/advanced-usage.html#ssl-warnings\n",
      "  InsecureRequestWarning)\n"
     ]
    },
    {
     "name": "stdout",
     "output_type": "stream",
     "text": [
      "Number of reviews: 8\n",
      "Len of reviews collection: 336\n",
      "------------------------------------------------------------------------------\n",
      "Processing: https://www.amazon.in/Apple-iPhone-X-64GB-Silver/product-reviews/B0711T2L8K?pageNumber=43\n"
     ]
    },
    {
     "name": "stderr",
     "output_type": "stream",
     "text": [
      "/Users/sharmili/miniconda2/envs/playground/lib/python2.7/site-packages/urllib3/connectionpool.py:858: InsecureRequestWarning: Unverified HTTPS request is being made. Adding certificate verification is strongly advised. See: https://urllib3.readthedocs.io/en/latest/advanced-usage.html#ssl-warnings\n",
      "  InsecureRequestWarning)\n"
     ]
    },
    {
     "name": "stdout",
     "output_type": "stream",
     "text": [
      "Number of reviews: 8\n",
      "Len of reviews collection: 344\n",
      "------------------------------------------------------------------------------\n",
      "Processing: https://www.amazon.in/Apple-iPhone-X-64GB-Silver/product-reviews/B0711T2L8K?pageNumber=44\n"
     ]
    },
    {
     "name": "stderr",
     "output_type": "stream",
     "text": [
      "/Users/sharmili/miniconda2/envs/playground/lib/python2.7/site-packages/urllib3/connectionpool.py:858: InsecureRequestWarning: Unverified HTTPS request is being made. Adding certificate verification is strongly advised. See: https://urllib3.readthedocs.io/en/latest/advanced-usage.html#ssl-warnings\n",
      "  InsecureRequestWarning)\n"
     ]
    },
    {
     "name": "stdout",
     "output_type": "stream",
     "text": [
      "Number of reviews: 8\n",
      "Len of reviews collection: 352\n",
      "------------------------------------------------------------------------------\n",
      "Processing: https://www.amazon.in/Apple-iPhone-X-64GB-Silver/product-reviews/B0711T2L8K?pageNumber=45\n"
     ]
    },
    {
     "name": "stderr",
     "output_type": "stream",
     "text": [
      "/Users/sharmili/miniconda2/envs/playground/lib/python2.7/site-packages/urllib3/connectionpool.py:858: InsecureRequestWarning: Unverified HTTPS request is being made. Adding certificate verification is strongly advised. See: https://urllib3.readthedocs.io/en/latest/advanced-usage.html#ssl-warnings\n",
      "  InsecureRequestWarning)\n"
     ]
    },
    {
     "name": "stdout",
     "output_type": "stream",
     "text": [
      "Number of reviews: 8\n",
      "Len of reviews collection: 360\n",
      "------------------------------------------------------------------------------\n",
      "Processing: https://www.amazon.in/Apple-iPhone-X-64GB-Silver/product-reviews/B0711T2L8K?pageNumber=46\n"
     ]
    },
    {
     "name": "stderr",
     "output_type": "stream",
     "text": [
      "/Users/sharmili/miniconda2/envs/playground/lib/python2.7/site-packages/urllib3/connectionpool.py:858: InsecureRequestWarning: Unverified HTTPS request is being made. Adding certificate verification is strongly advised. See: https://urllib3.readthedocs.io/en/latest/advanced-usage.html#ssl-warnings\n",
      "  InsecureRequestWarning)\n"
     ]
    },
    {
     "name": "stdout",
     "output_type": "stream",
     "text": [
      "Number of reviews: 8\n",
      "Len of reviews collection: 368\n",
      "------------------------------------------------------------------------------\n",
      "Processing: https://www.amazon.in/Apple-iPhone-X-64GB-Silver/product-reviews/B0711T2L8K?pageNumber=47\n"
     ]
    },
    {
     "name": "stderr",
     "output_type": "stream",
     "text": [
      "/Users/sharmili/miniconda2/envs/playground/lib/python2.7/site-packages/urllib3/connectionpool.py:858: InsecureRequestWarning: Unverified HTTPS request is being made. Adding certificate verification is strongly advised. See: https://urllib3.readthedocs.io/en/latest/advanced-usage.html#ssl-warnings\n",
      "  InsecureRequestWarning)\n"
     ]
    },
    {
     "name": "stdout",
     "output_type": "stream",
     "text": [
      "Number of reviews: 8\n",
      "Len of reviews collection: 376\n",
      "------------------------------------------------------------------------------\n",
      "Processing: https://www.amazon.in/Apple-iPhone-X-64GB-Silver/product-reviews/B0711T2L8K?pageNumber=48\n"
     ]
    },
    {
     "name": "stderr",
     "output_type": "stream",
     "text": [
      "/Users/sharmili/miniconda2/envs/playground/lib/python2.7/site-packages/urllib3/connectionpool.py:858: InsecureRequestWarning: Unverified HTTPS request is being made. Adding certificate verification is strongly advised. See: https://urllib3.readthedocs.io/en/latest/advanced-usage.html#ssl-warnings\n",
      "  InsecureRequestWarning)\n"
     ]
    },
    {
     "name": "stdout",
     "output_type": "stream",
     "text": [
      "Number of reviews: 8\n",
      "Len of reviews collection: 384\n",
      "------------------------------------------------------------------------------\n",
      "Processing: https://www.amazon.in/Apple-iPhone-X-64GB-Silver/product-reviews/B0711T2L8K?pageNumber=49\n"
     ]
    },
    {
     "name": "stderr",
     "output_type": "stream",
     "text": [
      "/Users/sharmili/miniconda2/envs/playground/lib/python2.7/site-packages/urllib3/connectionpool.py:858: InsecureRequestWarning: Unverified HTTPS request is being made. Adding certificate verification is strongly advised. See: https://urllib3.readthedocs.io/en/latest/advanced-usage.html#ssl-warnings\n",
      "  InsecureRequestWarning)\n"
     ]
    },
    {
     "name": "stdout",
     "output_type": "stream",
     "text": [
      "Number of reviews: 8\n",
      "Len of reviews collection: 392\n",
      "------------------------------------------------------------------------------\n",
      "Processing: https://www.amazon.in/Apple-iPhone-X-64GB-Silver/product-reviews/B0711T2L8K?pageNumber=50\n"
     ]
    },
    {
     "name": "stderr",
     "output_type": "stream",
     "text": [
      "/Users/sharmili/miniconda2/envs/playground/lib/python2.7/site-packages/urllib3/connectionpool.py:858: InsecureRequestWarning: Unverified HTTPS request is being made. Adding certificate verification is strongly advised. See: https://urllib3.readthedocs.io/en/latest/advanced-usage.html#ssl-warnings\n",
      "  InsecureRequestWarning)\n"
     ]
    },
    {
     "name": "stdout",
     "output_type": "stream",
     "text": [
      "Number of reviews: 8\n",
      "Len of reviews collection: 400\n",
      "------------------------------------------------------------------------------\n",
      "Processing: https://www.amazon.in/Apple-iPhone-X-64GB-Silver/product-reviews/B0711T2L8K?pageNumber=51\n"
     ]
    },
    {
     "name": "stderr",
     "output_type": "stream",
     "text": [
      "/Users/sharmili/miniconda2/envs/playground/lib/python2.7/site-packages/urllib3/connectionpool.py:858: InsecureRequestWarning: Unverified HTTPS request is being made. Adding certificate verification is strongly advised. See: https://urllib3.readthedocs.io/en/latest/advanced-usage.html#ssl-warnings\n",
      "  InsecureRequestWarning)\n"
     ]
    },
    {
     "name": "stdout",
     "output_type": "stream",
     "text": [
      "Number of reviews: 8\n",
      "Len of reviews collection: 408\n",
      "------------------------------------------------------------------------------\n",
      "Processing: https://www.amazon.in/Apple-iPhone-X-64GB-Silver/product-reviews/B0711T2L8K?pageNumber=52\n"
     ]
    },
    {
     "name": "stderr",
     "output_type": "stream",
     "text": [
      "/Users/sharmili/miniconda2/envs/playground/lib/python2.7/site-packages/urllib3/connectionpool.py:858: InsecureRequestWarning: Unverified HTTPS request is being made. Adding certificate verification is strongly advised. See: https://urllib3.readthedocs.io/en/latest/advanced-usage.html#ssl-warnings\n",
      "  InsecureRequestWarning)\n"
     ]
    },
    {
     "name": "stdout",
     "output_type": "stream",
     "text": [
      "Number of reviews: 8\n",
      "Len of reviews collection: 416\n",
      "------------------------------------------------------------------------------\n",
      "Processing: https://www.amazon.in/Apple-iPhone-X-64GB-Silver/product-reviews/B0711T2L8K?pageNumber=53\n"
     ]
    },
    {
     "name": "stderr",
     "output_type": "stream",
     "text": [
      "/Users/sharmili/miniconda2/envs/playground/lib/python2.7/site-packages/urllib3/connectionpool.py:858: InsecureRequestWarning: Unverified HTTPS request is being made. Adding certificate verification is strongly advised. See: https://urllib3.readthedocs.io/en/latest/advanced-usage.html#ssl-warnings\n",
      "  InsecureRequestWarning)\n"
     ]
    },
    {
     "name": "stdout",
     "output_type": "stream",
     "text": [
      "Number of reviews: 8\n",
      "Len of reviews collection: 424\n",
      "------------------------------------------------------------------------------\n",
      "Processing: https://www.amazon.in/Apple-iPhone-X-64GB-Silver/product-reviews/B0711T2L8K?pageNumber=54\n"
     ]
    },
    {
     "name": "stderr",
     "output_type": "stream",
     "text": [
      "/Users/sharmili/miniconda2/envs/playground/lib/python2.7/site-packages/urllib3/connectionpool.py:858: InsecureRequestWarning: Unverified HTTPS request is being made. Adding certificate verification is strongly advised. See: https://urllib3.readthedocs.io/en/latest/advanced-usage.html#ssl-warnings\n",
      "  InsecureRequestWarning)\n"
     ]
    },
    {
     "name": "stdout",
     "output_type": "stream",
     "text": [
      "Number of reviews: 8\n",
      "Len of reviews collection: 432\n",
      "------------------------------------------------------------------------------\n",
      "Processing: https://www.amazon.in/Apple-iPhone-X-64GB-Silver/product-reviews/B0711T2L8K?pageNumber=55\n"
     ]
    },
    {
     "name": "stderr",
     "output_type": "stream",
     "text": [
      "/Users/sharmili/miniconda2/envs/playground/lib/python2.7/site-packages/urllib3/connectionpool.py:858: InsecureRequestWarning: Unverified HTTPS request is being made. Adding certificate verification is strongly advised. See: https://urllib3.readthedocs.io/en/latest/advanced-usage.html#ssl-warnings\n",
      "  InsecureRequestWarning)\n"
     ]
    },
    {
     "name": "stdout",
     "output_type": "stream",
     "text": [
      "Number of reviews: 8\n",
      "Len of reviews collection: 440\n",
      "------------------------------------------------------------------------------\n",
      "Processing: https://www.amazon.in/Apple-iPhone-X-64GB-Silver/product-reviews/B0711T2L8K?pageNumber=56\n"
     ]
    },
    {
     "name": "stderr",
     "output_type": "stream",
     "text": [
      "/Users/sharmili/miniconda2/envs/playground/lib/python2.7/site-packages/urllib3/connectionpool.py:858: InsecureRequestWarning: Unverified HTTPS request is being made. Adding certificate verification is strongly advised. See: https://urllib3.readthedocs.io/en/latest/advanced-usage.html#ssl-warnings\n",
      "  InsecureRequestWarning)\n"
     ]
    },
    {
     "name": "stdout",
     "output_type": "stream",
     "text": [
      "Number of reviews: 8\n",
      "Len of reviews collection: 448\n",
      "------------------------------------------------------------------------------\n",
      "Processing: https://www.amazon.in/Apple-iPhone-X-64GB-Silver/product-reviews/B0711T2L8K?pageNumber=57\n"
     ]
    },
    {
     "name": "stderr",
     "output_type": "stream",
     "text": [
      "/Users/sharmili/miniconda2/envs/playground/lib/python2.7/site-packages/urllib3/connectionpool.py:858: InsecureRequestWarning: Unverified HTTPS request is being made. Adding certificate verification is strongly advised. See: https://urllib3.readthedocs.io/en/latest/advanced-usage.html#ssl-warnings\n",
      "  InsecureRequestWarning)\n"
     ]
    },
    {
     "name": "stdout",
     "output_type": "stream",
     "text": [
      "Number of reviews: 8\n",
      "Len of reviews collection: 456\n",
      "------------------------------------------------------------------------------\n",
      "Processing: https://www.amazon.in/Apple-iPhone-X-64GB-Silver/product-reviews/B0711T2L8K?pageNumber=58\n"
     ]
    },
    {
     "name": "stderr",
     "output_type": "stream",
     "text": [
      "/Users/sharmili/miniconda2/envs/playground/lib/python2.7/site-packages/urllib3/connectionpool.py:858: InsecureRequestWarning: Unverified HTTPS request is being made. Adding certificate verification is strongly advised. See: https://urllib3.readthedocs.io/en/latest/advanced-usage.html#ssl-warnings\n",
      "  InsecureRequestWarning)\n"
     ]
    },
    {
     "name": "stdout",
     "output_type": "stream",
     "text": [
      "Number of reviews: 8\n",
      "Len of reviews collection: 464\n",
      "------------------------------------------------------------------------------\n",
      "Processing: https://www.amazon.in/Apple-iPhone-X-64GB-Silver/product-reviews/B0711T2L8K?pageNumber=59\n"
     ]
    },
    {
     "name": "stderr",
     "output_type": "stream",
     "text": [
      "/Users/sharmili/miniconda2/envs/playground/lib/python2.7/site-packages/urllib3/connectionpool.py:858: InsecureRequestWarning: Unverified HTTPS request is being made. Adding certificate verification is strongly advised. See: https://urllib3.readthedocs.io/en/latest/advanced-usage.html#ssl-warnings\n",
      "  InsecureRequestWarning)\n"
     ]
    },
    {
     "name": "stdout",
     "output_type": "stream",
     "text": [
      "Number of reviews: 8\n",
      "Len of reviews collection: 472\n",
      "------------------------------------------------------------------------------\n",
      "Processing: https://www.amazon.in/Apple-iPhone-X-64GB-Silver/product-reviews/B0711T2L8K?pageNumber=60\n"
     ]
    },
    {
     "name": "stderr",
     "output_type": "stream",
     "text": [
      "/Users/sharmili/miniconda2/envs/playground/lib/python2.7/site-packages/urllib3/connectionpool.py:858: InsecureRequestWarning: Unverified HTTPS request is being made. Adding certificate verification is strongly advised. See: https://urllib3.readthedocs.io/en/latest/advanced-usage.html#ssl-warnings\n",
      "  InsecureRequestWarning)\n"
     ]
    },
    {
     "name": "stdout",
     "output_type": "stream",
     "text": [
      "Number of reviews: 8\n",
      "Len of reviews collection: 480\n",
      "------------------------------------------------------------------------------\n",
      "Processing: https://www.amazon.in/Apple-iPhone-X-64GB-Silver/product-reviews/B0711T2L8K?pageNumber=61\n"
     ]
    },
    {
     "name": "stderr",
     "output_type": "stream",
     "text": [
      "/Users/sharmili/miniconda2/envs/playground/lib/python2.7/site-packages/urllib3/connectionpool.py:858: InsecureRequestWarning: Unverified HTTPS request is being made. Adding certificate verification is strongly advised. See: https://urllib3.readthedocs.io/en/latest/advanced-usage.html#ssl-warnings\n",
      "  InsecureRequestWarning)\n"
     ]
    },
    {
     "name": "stdout",
     "output_type": "stream",
     "text": [
      "Number of reviews: 8\n",
      "Len of reviews collection: 488\n",
      "------------------------------------------------------------------------------\n",
      "Processing: https://www.amazon.in/Apple-iPhone-X-64GB-Silver/product-reviews/B0711T2L8K?pageNumber=62\n"
     ]
    },
    {
     "name": "stderr",
     "output_type": "stream",
     "text": [
      "/Users/sharmili/miniconda2/envs/playground/lib/python2.7/site-packages/urllib3/connectionpool.py:858: InsecureRequestWarning: Unverified HTTPS request is being made. Adding certificate verification is strongly advised. See: https://urllib3.readthedocs.io/en/latest/advanced-usage.html#ssl-warnings\n",
      "  InsecureRequestWarning)\n"
     ]
    },
    {
     "name": "stdout",
     "output_type": "stream",
     "text": [
      "Number of reviews: 8\n",
      "Len of reviews collection: 496\n",
      "------------------------------------------------------------------------------\n",
      "Processing: https://www.amazon.in/Apple-iPhone-X-64GB-Silver/product-reviews/B0711T2L8K?pageNumber=63\n"
     ]
    },
    {
     "name": "stderr",
     "output_type": "stream",
     "text": [
      "/Users/sharmili/miniconda2/envs/playground/lib/python2.7/site-packages/urllib3/connectionpool.py:858: InsecureRequestWarning: Unverified HTTPS request is being made. Adding certificate verification is strongly advised. See: https://urllib3.readthedocs.io/en/latest/advanced-usage.html#ssl-warnings\n",
      "  InsecureRequestWarning)\n"
     ]
    },
    {
     "name": "stdout",
     "output_type": "stream",
     "text": [
      "Number of reviews: 8\n",
      "Len of reviews collection: 504\n",
      "------------------------------------------------------------------------------\n",
      "Processing: https://www.amazon.in/Apple-iPhone-X-64GB-Silver/product-reviews/B0711T2L8K?pageNumber=64\n"
     ]
    },
    {
     "name": "stderr",
     "output_type": "stream",
     "text": [
      "/Users/sharmili/miniconda2/envs/playground/lib/python2.7/site-packages/urllib3/connectionpool.py:858: InsecureRequestWarning: Unverified HTTPS request is being made. Adding certificate verification is strongly advised. See: https://urllib3.readthedocs.io/en/latest/advanced-usage.html#ssl-warnings\n",
      "  InsecureRequestWarning)\n"
     ]
    },
    {
     "name": "stdout",
     "output_type": "stream",
     "text": [
      "Number of reviews: 8\n",
      "Len of reviews collection: 512\n",
      "------------------------------------------------------------------------------\n",
      "Processing: https://www.amazon.in/Apple-iPhone-X-64GB-Silver/product-reviews/B0711T2L8K?pageNumber=65\n"
     ]
    },
    {
     "name": "stderr",
     "output_type": "stream",
     "text": [
      "/Users/sharmili/miniconda2/envs/playground/lib/python2.7/site-packages/urllib3/connectionpool.py:858: InsecureRequestWarning: Unverified HTTPS request is being made. Adding certificate verification is strongly advised. See: https://urllib3.readthedocs.io/en/latest/advanced-usage.html#ssl-warnings\n",
      "  InsecureRequestWarning)\n"
     ]
    },
    {
     "name": "stdout",
     "output_type": "stream",
     "text": [
      "Number of reviews: 8\n",
      "Len of reviews collection: 520\n",
      "------------------------------------------------------------------------------\n",
      "Processing: https://www.amazon.in/Apple-iPhone-X-64GB-Silver/product-reviews/B0711T2L8K?pageNumber=66\n"
     ]
    },
    {
     "name": "stderr",
     "output_type": "stream",
     "text": [
      "/Users/sharmili/miniconda2/envs/playground/lib/python2.7/site-packages/urllib3/connectionpool.py:858: InsecureRequestWarning: Unverified HTTPS request is being made. Adding certificate verification is strongly advised. See: https://urllib3.readthedocs.io/en/latest/advanced-usage.html#ssl-warnings\n",
      "  InsecureRequestWarning)\n"
     ]
    },
    {
     "name": "stdout",
     "output_type": "stream",
     "text": [
      "Number of reviews: 8\n",
      "Len of reviews collection: 528\n",
      "------------------------------------------------------------------------------\n",
      "Processing: https://www.amazon.in/Apple-iPhone-X-64GB-Silver/product-reviews/B0711T2L8K?pageNumber=67\n"
     ]
    },
    {
     "name": "stderr",
     "output_type": "stream",
     "text": [
      "/Users/sharmili/miniconda2/envs/playground/lib/python2.7/site-packages/urllib3/connectionpool.py:858: InsecureRequestWarning: Unverified HTTPS request is being made. Adding certificate verification is strongly advised. See: https://urllib3.readthedocs.io/en/latest/advanced-usage.html#ssl-warnings\n",
      "  InsecureRequestWarning)\n"
     ]
    },
    {
     "name": "stdout",
     "output_type": "stream",
     "text": [
      "Number of reviews: 8\n",
      "Len of reviews collection: 536\n",
      "------------------------------------------------------------------------------\n",
      "Processing: https://www.amazon.in/Apple-iPhone-X-64GB-Silver/product-reviews/B0711T2L8K?pageNumber=68\n"
     ]
    },
    {
     "name": "stderr",
     "output_type": "stream",
     "text": [
      "/Users/sharmili/miniconda2/envs/playground/lib/python2.7/site-packages/urllib3/connectionpool.py:858: InsecureRequestWarning: Unverified HTTPS request is being made. Adding certificate verification is strongly advised. See: https://urllib3.readthedocs.io/en/latest/advanced-usage.html#ssl-warnings\n",
      "  InsecureRequestWarning)\n"
     ]
    },
    {
     "name": "stdout",
     "output_type": "stream",
     "text": [
      "Number of reviews: 8\n",
      "Len of reviews collection: 544\n",
      "------------------------------------------------------------------------------\n",
      "Processing: https://www.amazon.in/Apple-iPhone-X-64GB-Silver/product-reviews/B0711T2L8K?pageNumber=69\n"
     ]
    },
    {
     "name": "stderr",
     "output_type": "stream",
     "text": [
      "/Users/sharmili/miniconda2/envs/playground/lib/python2.7/site-packages/urllib3/connectionpool.py:858: InsecureRequestWarning: Unverified HTTPS request is being made. Adding certificate verification is strongly advised. See: https://urllib3.readthedocs.io/en/latest/advanced-usage.html#ssl-warnings\n",
      "  InsecureRequestWarning)\n"
     ]
    },
    {
     "name": "stdout",
     "output_type": "stream",
     "text": [
      "Number of reviews: 8\n",
      "Len of reviews collection: 552\n",
      "------------------------------------------------------------------------------\n",
      "Processing: https://www.amazon.in/Apple-iPhone-X-64GB-Silver/product-reviews/B0711T2L8K?pageNumber=70\n"
     ]
    },
    {
     "name": "stderr",
     "output_type": "stream",
     "text": [
      "/Users/sharmili/miniconda2/envs/playground/lib/python2.7/site-packages/urllib3/connectionpool.py:858: InsecureRequestWarning: Unverified HTTPS request is being made. Adding certificate verification is strongly advised. See: https://urllib3.readthedocs.io/en/latest/advanced-usage.html#ssl-warnings\n",
      "  InsecureRequestWarning)\n"
     ]
    },
    {
     "name": "stdout",
     "output_type": "stream",
     "text": [
      "Number of reviews: 8\n",
      "Len of reviews collection: 560\n",
      "------------------------------------------------------------------------------\n",
      "Processing: https://www.amazon.in/Apple-iPhone-X-64GB-Silver/product-reviews/B0711T2L8K?pageNumber=71\n"
     ]
    },
    {
     "name": "stderr",
     "output_type": "stream",
     "text": [
      "/Users/sharmili/miniconda2/envs/playground/lib/python2.7/site-packages/urllib3/connectionpool.py:858: InsecureRequestWarning: Unverified HTTPS request is being made. Adding certificate verification is strongly advised. See: https://urllib3.readthedocs.io/en/latest/advanced-usage.html#ssl-warnings\n",
      "  InsecureRequestWarning)\n"
     ]
    },
    {
     "name": "stdout",
     "output_type": "stream",
     "text": [
      "Number of reviews: 8\n",
      "Len of reviews collection: 568\n",
      "------------------------------------------------------------------------------\n",
      "Processing: https://www.amazon.in/Apple-iPhone-X-64GB-Silver/product-reviews/B0711T2L8K?pageNumber=72\n"
     ]
    },
    {
     "name": "stderr",
     "output_type": "stream",
     "text": [
      "/Users/sharmili/miniconda2/envs/playground/lib/python2.7/site-packages/urllib3/connectionpool.py:858: InsecureRequestWarning: Unverified HTTPS request is being made. Adding certificate verification is strongly advised. See: https://urllib3.readthedocs.io/en/latest/advanced-usage.html#ssl-warnings\n",
      "  InsecureRequestWarning)\n"
     ]
    },
    {
     "name": "stdout",
     "output_type": "stream",
     "text": [
      "Number of reviews: 8\n",
      "Len of reviews collection: 576\n",
      "------------------------------------------------------------------------------\n",
      "Processing: https://www.amazon.in/Apple-iPhone-X-64GB-Silver/product-reviews/B0711T2L8K?pageNumber=73\n"
     ]
    },
    {
     "name": "stderr",
     "output_type": "stream",
     "text": [
      "/Users/sharmili/miniconda2/envs/playground/lib/python2.7/site-packages/urllib3/connectionpool.py:858: InsecureRequestWarning: Unverified HTTPS request is being made. Adding certificate verification is strongly advised. See: https://urllib3.readthedocs.io/en/latest/advanced-usage.html#ssl-warnings\n",
      "  InsecureRequestWarning)\n"
     ]
    },
    {
     "name": "stdout",
     "output_type": "stream",
     "text": [
      "Number of reviews: 8\n",
      "Len of reviews collection: 584\n",
      "------------------------------------------------------------------------------\n",
      "Processing: https://www.amazon.in/Apple-iPhone-X-64GB-Silver/product-reviews/B0711T2L8K?pageNumber=74\n"
     ]
    },
    {
     "name": "stderr",
     "output_type": "stream",
     "text": [
      "/Users/sharmili/miniconda2/envs/playground/lib/python2.7/site-packages/urllib3/connectionpool.py:858: InsecureRequestWarning: Unverified HTTPS request is being made. Adding certificate verification is strongly advised. See: https://urllib3.readthedocs.io/en/latest/advanced-usage.html#ssl-warnings\n",
      "  InsecureRequestWarning)\n"
     ]
    },
    {
     "name": "stdout",
     "output_type": "stream",
     "text": [
      "Number of reviews: 8\n",
      "Len of reviews collection: 592\n",
      "------------------------------------------------------------------------------\n",
      "Processing: https://www.amazon.in/Apple-iPhone-X-64GB-Silver/product-reviews/B0711T2L8K?pageNumber=75\n"
     ]
    },
    {
     "name": "stderr",
     "output_type": "stream",
     "text": [
      "/Users/sharmili/miniconda2/envs/playground/lib/python2.7/site-packages/urllib3/connectionpool.py:858: InsecureRequestWarning: Unverified HTTPS request is being made. Adding certificate verification is strongly advised. See: https://urllib3.readthedocs.io/en/latest/advanced-usage.html#ssl-warnings\n",
      "  InsecureRequestWarning)\n"
     ]
    },
    {
     "name": "stdout",
     "output_type": "stream",
     "text": [
      "Number of reviews: 8\n",
      "Len of reviews collection: 600\n",
      "------------------------------------------------------------------------------\n",
      "Processing: https://www.amazon.in/Apple-iPhone-X-64GB-Silver/product-reviews/B0711T2L8K?pageNumber=76\n"
     ]
    },
    {
     "name": "stderr",
     "output_type": "stream",
     "text": [
      "/Users/sharmili/miniconda2/envs/playground/lib/python2.7/site-packages/urllib3/connectionpool.py:858: InsecureRequestWarning: Unverified HTTPS request is being made. Adding certificate verification is strongly advised. See: https://urllib3.readthedocs.io/en/latest/advanced-usage.html#ssl-warnings\n",
      "  InsecureRequestWarning)\n"
     ]
    },
    {
     "name": "stdout",
     "output_type": "stream",
     "text": [
      "Number of reviews: 8\n",
      "Len of reviews collection: 608\n",
      "------------------------------------------------------------------------------\n",
      "Processing: https://www.amazon.in/Apple-iPhone-X-64GB-Silver/product-reviews/B0711T2L8K?pageNumber=77\n"
     ]
    },
    {
     "name": "stderr",
     "output_type": "stream",
     "text": [
      "/Users/sharmili/miniconda2/envs/playground/lib/python2.7/site-packages/urllib3/connectionpool.py:858: InsecureRequestWarning: Unverified HTTPS request is being made. Adding certificate verification is strongly advised. See: https://urllib3.readthedocs.io/en/latest/advanced-usage.html#ssl-warnings\n",
      "  InsecureRequestWarning)\n"
     ]
    },
    {
     "name": "stdout",
     "output_type": "stream",
     "text": [
      "Number of reviews: 8\n",
      "Len of reviews collection: 616\n",
      "------------------------------------------------------------------------------\n",
      "Processing: https://www.amazon.in/Apple-iPhone-X-64GB-Silver/product-reviews/B0711T2L8K?pageNumber=78\n"
     ]
    },
    {
     "name": "stderr",
     "output_type": "stream",
     "text": [
      "/Users/sharmili/miniconda2/envs/playground/lib/python2.7/site-packages/urllib3/connectionpool.py:858: InsecureRequestWarning: Unverified HTTPS request is being made. Adding certificate verification is strongly advised. See: https://urllib3.readthedocs.io/en/latest/advanced-usage.html#ssl-warnings\n",
      "  InsecureRequestWarning)\n"
     ]
    },
    {
     "name": "stdout",
     "output_type": "stream",
     "text": [
      "Number of reviews: 8\n",
      "Len of reviews collection: 624\n",
      "------------------------------------------------------------------------------\n",
      "Processing: https://www.amazon.in/Apple-iPhone-X-64GB-Silver/product-reviews/B0711T2L8K?pageNumber=79\n"
     ]
    },
    {
     "name": "stderr",
     "output_type": "stream",
     "text": [
      "/Users/sharmili/miniconda2/envs/playground/lib/python2.7/site-packages/urllib3/connectionpool.py:858: InsecureRequestWarning: Unverified HTTPS request is being made. Adding certificate verification is strongly advised. See: https://urllib3.readthedocs.io/en/latest/advanced-usage.html#ssl-warnings\n",
      "  InsecureRequestWarning)\n"
     ]
    },
    {
     "name": "stdout",
     "output_type": "stream",
     "text": [
      "Number of reviews: 8\n",
      "Len of reviews collection: 632\n",
      "------------------------------------------------------------------------------\n",
      "Processing: https://www.amazon.in/Apple-iPhone-X-64GB-Silver/product-reviews/B0711T2L8K?pageNumber=80\n"
     ]
    },
    {
     "name": "stderr",
     "output_type": "stream",
     "text": [
      "/Users/sharmili/miniconda2/envs/playground/lib/python2.7/site-packages/urllib3/connectionpool.py:858: InsecureRequestWarning: Unverified HTTPS request is being made. Adding certificate verification is strongly advised. See: https://urllib3.readthedocs.io/en/latest/advanced-usage.html#ssl-warnings\n",
      "  InsecureRequestWarning)\n"
     ]
    },
    {
     "name": "stdout",
     "output_type": "stream",
     "text": [
      "Number of reviews: 8\n",
      "Len of reviews collection: 640\n",
      "------------------------------------------------------------------------------\n",
      "Processing: https://www.amazon.in/Apple-iPhone-X-64GB-Silver/product-reviews/B0711T2L8K?pageNumber=81\n"
     ]
    },
    {
     "name": "stderr",
     "output_type": "stream",
     "text": [
      "/Users/sharmili/miniconda2/envs/playground/lib/python2.7/site-packages/urllib3/connectionpool.py:858: InsecureRequestWarning: Unverified HTTPS request is being made. Adding certificate verification is strongly advised. See: https://urllib3.readthedocs.io/en/latest/advanced-usage.html#ssl-warnings\n",
      "  InsecureRequestWarning)\n"
     ]
    },
    {
     "name": "stdout",
     "output_type": "stream",
     "text": [
      "Number of reviews: 8\n",
      "Len of reviews collection: 648\n",
      "------------------------------------------------------------------------------\n",
      "Processing: https://www.amazon.in/Apple-iPhone-X-64GB-Silver/product-reviews/B0711T2L8K?pageNumber=82\n"
     ]
    },
    {
     "name": "stderr",
     "output_type": "stream",
     "text": [
      "/Users/sharmili/miniconda2/envs/playground/lib/python2.7/site-packages/urllib3/connectionpool.py:858: InsecureRequestWarning: Unverified HTTPS request is being made. Adding certificate verification is strongly advised. See: https://urllib3.readthedocs.io/en/latest/advanced-usage.html#ssl-warnings\n",
      "  InsecureRequestWarning)\n"
     ]
    },
    {
     "name": "stdout",
     "output_type": "stream",
     "text": [
      "Number of reviews: 8\n",
      "Len of reviews collection: 656\n",
      "------------------------------------------------------------------------------\n",
      "Processing: https://www.amazon.in/Apple-iPhone-X-64GB-Silver/product-reviews/B0711T2L8K?pageNumber=83\n"
     ]
    },
    {
     "name": "stderr",
     "output_type": "stream",
     "text": [
      "/Users/sharmili/miniconda2/envs/playground/lib/python2.7/site-packages/urllib3/connectionpool.py:858: InsecureRequestWarning: Unverified HTTPS request is being made. Adding certificate verification is strongly advised. See: https://urllib3.readthedocs.io/en/latest/advanced-usage.html#ssl-warnings\n",
      "  InsecureRequestWarning)\n"
     ]
    },
    {
     "name": "stdout",
     "output_type": "stream",
     "text": [
      "Number of reviews: 8\n",
      "Len of reviews collection: 664\n",
      "------------------------------------------------------------------------------\n",
      "Processing: https://www.amazon.in/Apple-iPhone-X-64GB-Silver/product-reviews/B0711T2L8K?pageNumber=84\n"
     ]
    },
    {
     "name": "stderr",
     "output_type": "stream",
     "text": [
      "/Users/sharmili/miniconda2/envs/playground/lib/python2.7/site-packages/urllib3/connectionpool.py:858: InsecureRequestWarning: Unverified HTTPS request is being made. Adding certificate verification is strongly advised. See: https://urllib3.readthedocs.io/en/latest/advanced-usage.html#ssl-warnings\n",
      "  InsecureRequestWarning)\n"
     ]
    },
    {
     "name": "stdout",
     "output_type": "stream",
     "text": [
      "Number of reviews: 8\n",
      "Len of reviews collection: 672\n",
      "------------------------------------------------------------------------------\n",
      "Processing: https://www.amazon.in/Apple-iPhone-X-64GB-Silver/product-reviews/B0711T2L8K?pageNumber=85\n"
     ]
    },
    {
     "name": "stderr",
     "output_type": "stream",
     "text": [
      "/Users/sharmili/miniconda2/envs/playground/lib/python2.7/site-packages/urllib3/connectionpool.py:858: InsecureRequestWarning: Unverified HTTPS request is being made. Adding certificate verification is strongly advised. See: https://urllib3.readthedocs.io/en/latest/advanced-usage.html#ssl-warnings\n",
      "  InsecureRequestWarning)\n"
     ]
    },
    {
     "name": "stdout",
     "output_type": "stream",
     "text": [
      "Number of reviews: 8\n",
      "Len of reviews collection: 680\n",
      "------------------------------------------------------------------------------\n",
      "Processing: https://www.amazon.in/Apple-iPhone-X-64GB-Silver/product-reviews/B0711T2L8K?pageNumber=86\n"
     ]
    },
    {
     "name": "stderr",
     "output_type": "stream",
     "text": [
      "/Users/sharmili/miniconda2/envs/playground/lib/python2.7/site-packages/urllib3/connectionpool.py:858: InsecureRequestWarning: Unverified HTTPS request is being made. Adding certificate verification is strongly advised. See: https://urllib3.readthedocs.io/en/latest/advanced-usage.html#ssl-warnings\n",
      "  InsecureRequestWarning)\n"
     ]
    },
    {
     "name": "stdout",
     "output_type": "stream",
     "text": [
      "Number of reviews: 8\n",
      "Len of reviews collection: 688\n",
      "------------------------------------------------------------------------------\n",
      "Processing: https://www.amazon.in/Apple-iPhone-X-64GB-Silver/product-reviews/B0711T2L8K?pageNumber=87\n"
     ]
    },
    {
     "name": "stderr",
     "output_type": "stream",
     "text": [
      "/Users/sharmili/miniconda2/envs/playground/lib/python2.7/site-packages/urllib3/connectionpool.py:858: InsecureRequestWarning: Unverified HTTPS request is being made. Adding certificate verification is strongly advised. See: https://urllib3.readthedocs.io/en/latest/advanced-usage.html#ssl-warnings\n",
      "  InsecureRequestWarning)\n"
     ]
    },
    {
     "name": "stdout",
     "output_type": "stream",
     "text": [
      "Number of reviews: 8\n",
      "Len of reviews collection: 696\n",
      "------------------------------------------------------------------------------\n",
      "Processing: https://www.amazon.in/Apple-iPhone-X-64GB-Silver/product-reviews/B0711T2L8K?pageNumber=88\n"
     ]
    },
    {
     "name": "stderr",
     "output_type": "stream",
     "text": [
      "/Users/sharmili/miniconda2/envs/playground/lib/python2.7/site-packages/urllib3/connectionpool.py:858: InsecureRequestWarning: Unverified HTTPS request is being made. Adding certificate verification is strongly advised. See: https://urllib3.readthedocs.io/en/latest/advanced-usage.html#ssl-warnings\n",
      "  InsecureRequestWarning)\n"
     ]
    },
    {
     "name": "stdout",
     "output_type": "stream",
     "text": [
      "Number of reviews: 8\n",
      "Len of reviews collection: 704\n",
      "------------------------------------------------------------------------------\n",
      "Processing: https://www.amazon.in/Apple-iPhone-X-64GB-Silver/product-reviews/B0711T2L8K?pageNumber=89\n"
     ]
    },
    {
     "name": "stderr",
     "output_type": "stream",
     "text": [
      "/Users/sharmili/miniconda2/envs/playground/lib/python2.7/site-packages/urllib3/connectionpool.py:858: InsecureRequestWarning: Unverified HTTPS request is being made. Adding certificate verification is strongly advised. See: https://urllib3.readthedocs.io/en/latest/advanced-usage.html#ssl-warnings\n",
      "  InsecureRequestWarning)\n"
     ]
    },
    {
     "name": "stdout",
     "output_type": "stream",
     "text": [
      "Number of reviews: 8\n",
      "Len of reviews collection: 712\n",
      "------------------------------------------------------------------------------\n",
      "Processing: https://www.amazon.in/Apple-iPhone-X-64GB-Silver/product-reviews/B0711T2L8K?pageNumber=90\n"
     ]
    },
    {
     "name": "stderr",
     "output_type": "stream",
     "text": [
      "/Users/sharmili/miniconda2/envs/playground/lib/python2.7/site-packages/urllib3/connectionpool.py:858: InsecureRequestWarning: Unverified HTTPS request is being made. Adding certificate verification is strongly advised. See: https://urllib3.readthedocs.io/en/latest/advanced-usage.html#ssl-warnings\n",
      "  InsecureRequestWarning)\n"
     ]
    },
    {
     "name": "stdout",
     "output_type": "stream",
     "text": [
      "Number of reviews: 8\n",
      "Len of reviews collection: 720\n",
      "------------------------------------------------------------------------------\n",
      "Processing: https://www.amazon.in/Apple-iPhone-X-64GB-Silver/product-reviews/B0711T2L8K?pageNumber=91\n"
     ]
    },
    {
     "name": "stderr",
     "output_type": "stream",
     "text": [
      "/Users/sharmili/miniconda2/envs/playground/lib/python2.7/site-packages/urllib3/connectionpool.py:858: InsecureRequestWarning: Unverified HTTPS request is being made. Adding certificate verification is strongly advised. See: https://urllib3.readthedocs.io/en/latest/advanced-usage.html#ssl-warnings\n",
      "  InsecureRequestWarning)\n"
     ]
    },
    {
     "name": "stdout",
     "output_type": "stream",
     "text": [
      "Number of reviews: 8\n",
      "Len of reviews collection: 728\n",
      "------------------------------------------------------------------------------\n",
      "Processing: https://www.amazon.in/Apple-iPhone-X-64GB-Silver/product-reviews/B0711T2L8K?pageNumber=92\n"
     ]
    },
    {
     "name": "stderr",
     "output_type": "stream",
     "text": [
      "/Users/sharmili/miniconda2/envs/playground/lib/python2.7/site-packages/urllib3/connectionpool.py:858: InsecureRequestWarning: Unverified HTTPS request is being made. Adding certificate verification is strongly advised. See: https://urllib3.readthedocs.io/en/latest/advanced-usage.html#ssl-warnings\n",
      "  InsecureRequestWarning)\n"
     ]
    },
    {
     "name": "stdout",
     "output_type": "stream",
     "text": [
      "Number of reviews: 8\n",
      "Len of reviews collection: 736\n",
      "------------------------------------------------------------------------------\n",
      "Processing: https://www.amazon.in/Apple-iPhone-X-64GB-Silver/product-reviews/B0711T2L8K?pageNumber=93\n"
     ]
    },
    {
     "name": "stderr",
     "output_type": "stream",
     "text": [
      "/Users/sharmili/miniconda2/envs/playground/lib/python2.7/site-packages/urllib3/connectionpool.py:858: InsecureRequestWarning: Unverified HTTPS request is being made. Adding certificate verification is strongly advised. See: https://urllib3.readthedocs.io/en/latest/advanced-usage.html#ssl-warnings\n",
      "  InsecureRequestWarning)\n"
     ]
    },
    {
     "name": "stdout",
     "output_type": "stream",
     "text": [
      "Number of reviews: 8\n",
      "Len of reviews collection: 744\n",
      "------------------------------------------------------------------------------\n",
      "Processing: https://www.amazon.in/Apple-iPhone-X-64GB-Silver/product-reviews/B0711T2L8K?pageNumber=94\n"
     ]
    },
    {
     "name": "stderr",
     "output_type": "stream",
     "text": [
      "/Users/sharmili/miniconda2/envs/playground/lib/python2.7/site-packages/urllib3/connectionpool.py:858: InsecureRequestWarning: Unverified HTTPS request is being made. Adding certificate verification is strongly advised. See: https://urllib3.readthedocs.io/en/latest/advanced-usage.html#ssl-warnings\n",
      "  InsecureRequestWarning)\n"
     ]
    },
    {
     "name": "stdout",
     "output_type": "stream",
     "text": [
      "Number of reviews: 8\n",
      "Len of reviews collection: 752\n",
      "------------------------------------------------------------------------------\n",
      "Processing: https://www.amazon.in/Apple-iPhone-X-64GB-Silver/product-reviews/B0711T2L8K?pageNumber=95\n"
     ]
    },
    {
     "name": "stderr",
     "output_type": "stream",
     "text": [
      "/Users/sharmili/miniconda2/envs/playground/lib/python2.7/site-packages/urllib3/connectionpool.py:858: InsecureRequestWarning: Unverified HTTPS request is being made. Adding certificate verification is strongly advised. See: https://urllib3.readthedocs.io/en/latest/advanced-usage.html#ssl-warnings\n",
      "  InsecureRequestWarning)\n"
     ]
    },
    {
     "name": "stdout",
     "output_type": "stream",
     "text": [
      "Number of reviews: 8\n",
      "Len of reviews collection: 760\n",
      "------------------------------------------------------------------------------\n",
      "Processing: https://www.amazon.in/Apple-iPhone-X-64GB-Silver/product-reviews/B0711T2L8K?pageNumber=96\n"
     ]
    },
    {
     "name": "stderr",
     "output_type": "stream",
     "text": [
      "/Users/sharmili/miniconda2/envs/playground/lib/python2.7/site-packages/urllib3/connectionpool.py:858: InsecureRequestWarning: Unverified HTTPS request is being made. Adding certificate verification is strongly advised. See: https://urllib3.readthedocs.io/en/latest/advanced-usage.html#ssl-warnings\n",
      "  InsecureRequestWarning)\n"
     ]
    },
    {
     "name": "stdout",
     "output_type": "stream",
     "text": [
      "Number of reviews: 8\n",
      "Len of reviews collection: 768\n",
      "------------------------------------------------------------------------------\n",
      "Processing: https://www.amazon.in/Apple-iPhone-X-64GB-Silver/product-reviews/B0711T2L8K?pageNumber=97\n"
     ]
    },
    {
     "name": "stderr",
     "output_type": "stream",
     "text": [
      "/Users/sharmili/miniconda2/envs/playground/lib/python2.7/site-packages/urllib3/connectionpool.py:858: InsecureRequestWarning: Unverified HTTPS request is being made. Adding certificate verification is strongly advised. See: https://urllib3.readthedocs.io/en/latest/advanced-usage.html#ssl-warnings\n",
      "  InsecureRequestWarning)\n"
     ]
    },
    {
     "name": "stdout",
     "output_type": "stream",
     "text": [
      "Number of reviews: 8\n",
      "Len of reviews collection: 776\n",
      "------------------------------------------------------------------------------\n",
      "Processing: https://www.amazon.in/Apple-iPhone-X-64GB-Silver/product-reviews/B0711T2L8K?pageNumber=98\n"
     ]
    },
    {
     "name": "stderr",
     "output_type": "stream",
     "text": [
      "/Users/sharmili/miniconda2/envs/playground/lib/python2.7/site-packages/urllib3/connectionpool.py:858: InsecureRequestWarning: Unverified HTTPS request is being made. Adding certificate verification is strongly advised. See: https://urllib3.readthedocs.io/en/latest/advanced-usage.html#ssl-warnings\n",
      "  InsecureRequestWarning)\n"
     ]
    },
    {
     "name": "stdout",
     "output_type": "stream",
     "text": [
      "Number of reviews: 8\n",
      "Len of reviews collection: 784\n",
      "------------------------------------------------------------------------------\n",
      "Processing: https://www.amazon.in/Apple-iPhone-X-64GB-Silver/product-reviews/B0711T2L8K?pageNumber=99\n"
     ]
    },
    {
     "name": "stderr",
     "output_type": "stream",
     "text": [
      "/Users/sharmili/miniconda2/envs/playground/lib/python2.7/site-packages/urllib3/connectionpool.py:858: InsecureRequestWarning: Unverified HTTPS request is being made. Adding certificate verification is strongly advised. See: https://urllib3.readthedocs.io/en/latest/advanced-usage.html#ssl-warnings\n",
      "  InsecureRequestWarning)\n"
     ]
    },
    {
     "name": "stdout",
     "output_type": "stream",
     "text": [
      "Number of reviews: 8\n",
      "Len of reviews collection: 792\n",
      "------------------------------------------------------------------------------\n",
      "Processing: https://www.amazon.in/Apple-iPhone-X-64GB-Silver/product-reviews/B0711T2L8K?pageNumber=100\n"
     ]
    },
    {
     "name": "stderr",
     "output_type": "stream",
     "text": [
      "/Users/sharmili/miniconda2/envs/playground/lib/python2.7/site-packages/urllib3/connectionpool.py:858: InsecureRequestWarning: Unverified HTTPS request is being made. Adding certificate verification is strongly advised. See: https://urllib3.readthedocs.io/en/latest/advanced-usage.html#ssl-warnings\n",
      "  InsecureRequestWarning)\n"
     ]
    },
    {
     "name": "stdout",
     "output_type": "stream",
     "text": [
      "Number of reviews: 8\n",
      "Len of reviews collection: 800\n",
      "------------------------------------------------------------------------------\n",
      "Processing: https://www.amazon.in/Apple-iPhone-X-64GB-Silver/product-reviews/B0711T2L8K?pageNumber=101\n"
     ]
    },
    {
     "name": "stderr",
     "output_type": "stream",
     "text": [
      "/Users/sharmili/miniconda2/envs/playground/lib/python2.7/site-packages/urllib3/connectionpool.py:858: InsecureRequestWarning: Unverified HTTPS request is being made. Adding certificate verification is strongly advised. See: https://urllib3.readthedocs.io/en/latest/advanced-usage.html#ssl-warnings\n",
      "  InsecureRequestWarning)\n"
     ]
    },
    {
     "name": "stdout",
     "output_type": "stream",
     "text": [
      "Number of reviews: 8\n",
      "Len of reviews collection: 808\n",
      "------------------------------------------------------------------------------\n",
      "Processing: https://www.amazon.in/Apple-iPhone-X-64GB-Silver/product-reviews/B0711T2L8K?pageNumber=102\n"
     ]
    },
    {
     "name": "stderr",
     "output_type": "stream",
     "text": [
      "/Users/sharmili/miniconda2/envs/playground/lib/python2.7/site-packages/urllib3/connectionpool.py:858: InsecureRequestWarning: Unverified HTTPS request is being made. Adding certificate verification is strongly advised. See: https://urllib3.readthedocs.io/en/latest/advanced-usage.html#ssl-warnings\n",
      "  InsecureRequestWarning)\n"
     ]
    },
    {
     "name": "stdout",
     "output_type": "stream",
     "text": [
      "Number of reviews: 8\n",
      "Len of reviews collection: 816\n",
      "------------------------------------------------------------------------------\n",
      "Processing: https://www.amazon.in/Apple-iPhone-X-64GB-Silver/product-reviews/B0711T2L8K?pageNumber=103\n"
     ]
    },
    {
     "name": "stderr",
     "output_type": "stream",
     "text": [
      "/Users/sharmili/miniconda2/envs/playground/lib/python2.7/site-packages/urllib3/connectionpool.py:858: InsecureRequestWarning: Unverified HTTPS request is being made. Adding certificate verification is strongly advised. See: https://urllib3.readthedocs.io/en/latest/advanced-usage.html#ssl-warnings\n",
      "  InsecureRequestWarning)\n"
     ]
    },
    {
     "name": "stdout",
     "output_type": "stream",
     "text": [
      "Number of reviews: 8\n",
      "Len of reviews collection: 824\n",
      "------------------------------------------------------------------------------\n",
      "Processing: https://www.amazon.in/Apple-iPhone-X-64GB-Silver/product-reviews/B0711T2L8K?pageNumber=104\n"
     ]
    },
    {
     "name": "stderr",
     "output_type": "stream",
     "text": [
      "/Users/sharmili/miniconda2/envs/playground/lib/python2.7/site-packages/urllib3/connectionpool.py:858: InsecureRequestWarning: Unverified HTTPS request is being made. Adding certificate verification is strongly advised. See: https://urllib3.readthedocs.io/en/latest/advanced-usage.html#ssl-warnings\n",
      "  InsecureRequestWarning)\n"
     ]
    },
    {
     "name": "stdout",
     "output_type": "stream",
     "text": [
      "Number of reviews: 8\n",
      "Len of reviews collection: 832\n",
      "------------------------------------------------------------------------------\n",
      "Processing: https://www.amazon.in/Apple-iPhone-X-64GB-Silver/product-reviews/B0711T2L8K?pageNumber=105\n"
     ]
    },
    {
     "name": "stderr",
     "output_type": "stream",
     "text": [
      "/Users/sharmili/miniconda2/envs/playground/lib/python2.7/site-packages/urllib3/connectionpool.py:858: InsecureRequestWarning: Unverified HTTPS request is being made. Adding certificate verification is strongly advised. See: https://urllib3.readthedocs.io/en/latest/advanced-usage.html#ssl-warnings\n",
      "  InsecureRequestWarning)\n"
     ]
    },
    {
     "name": "stdout",
     "output_type": "stream",
     "text": [
      "Number of reviews: 8\n",
      "Len of reviews collection: 840\n",
      "------------------------------------------------------------------------------\n",
      "Processing: https://www.amazon.in/Apple-iPhone-X-64GB-Silver/product-reviews/B0711T2L8K?pageNumber=106\n"
     ]
    },
    {
     "name": "stderr",
     "output_type": "stream",
     "text": [
      "/Users/sharmili/miniconda2/envs/playground/lib/python2.7/site-packages/urllib3/connectionpool.py:858: InsecureRequestWarning: Unverified HTTPS request is being made. Adding certificate verification is strongly advised. See: https://urllib3.readthedocs.io/en/latest/advanced-usage.html#ssl-warnings\n",
      "  InsecureRequestWarning)\n"
     ]
    },
    {
     "name": "stdout",
     "output_type": "stream",
     "text": [
      "Number of reviews: 8\n",
      "Len of reviews collection: 848\n",
      "------------------------------------------------------------------------------\n",
      "Processing: https://www.amazon.in/Apple-iPhone-X-64GB-Silver/product-reviews/B0711T2L8K?pageNumber=107\n"
     ]
    },
    {
     "name": "stderr",
     "output_type": "stream",
     "text": [
      "/Users/sharmili/miniconda2/envs/playground/lib/python2.7/site-packages/urllib3/connectionpool.py:858: InsecureRequestWarning: Unverified HTTPS request is being made. Adding certificate verification is strongly advised. See: https://urllib3.readthedocs.io/en/latest/advanced-usage.html#ssl-warnings\n",
      "  InsecureRequestWarning)\n"
     ]
    },
    {
     "name": "stdout",
     "output_type": "stream",
     "text": [
      "Number of reviews: 8\n",
      "Len of reviews collection: 856\n",
      "------------------------------------------------------------------------------\n",
      "Processing: https://www.amazon.in/Apple-iPhone-X-64GB-Silver/product-reviews/B0711T2L8K?pageNumber=108\n"
     ]
    },
    {
     "name": "stderr",
     "output_type": "stream",
     "text": [
      "/Users/sharmili/miniconda2/envs/playground/lib/python2.7/site-packages/urllib3/connectionpool.py:858: InsecureRequestWarning: Unverified HTTPS request is being made. Adding certificate verification is strongly advised. See: https://urllib3.readthedocs.io/en/latest/advanced-usage.html#ssl-warnings\n",
      "  InsecureRequestWarning)\n"
     ]
    },
    {
     "name": "stdout",
     "output_type": "stream",
     "text": [
      "Number of reviews: 8\n",
      "Len of reviews collection: 864\n",
      "------------------------------------------------------------------------------\n",
      "Processing: https://www.amazon.in/Apple-iPhone-X-64GB-Silver/product-reviews/B0711T2L8K?pageNumber=109\n"
     ]
    },
    {
     "name": "stderr",
     "output_type": "stream",
     "text": [
      "/Users/sharmili/miniconda2/envs/playground/lib/python2.7/site-packages/urllib3/connectionpool.py:858: InsecureRequestWarning: Unverified HTTPS request is being made. Adding certificate verification is strongly advised. See: https://urllib3.readthedocs.io/en/latest/advanced-usage.html#ssl-warnings\n",
      "  InsecureRequestWarning)\n"
     ]
    },
    {
     "name": "stdout",
     "output_type": "stream",
     "text": [
      "Number of reviews: 8\n",
      "Len of reviews collection: 872\n",
      "------------------------------------------------------------------------------\n",
      "Processing: https://www.amazon.in/Apple-iPhone-X-64GB-Silver/product-reviews/B0711T2L8K?pageNumber=110\n"
     ]
    },
    {
     "name": "stderr",
     "output_type": "stream",
     "text": [
      "/Users/sharmili/miniconda2/envs/playground/lib/python2.7/site-packages/urllib3/connectionpool.py:858: InsecureRequestWarning: Unverified HTTPS request is being made. Adding certificate verification is strongly advised. See: https://urllib3.readthedocs.io/en/latest/advanced-usage.html#ssl-warnings\n",
      "  InsecureRequestWarning)\n"
     ]
    },
    {
     "name": "stdout",
     "output_type": "stream",
     "text": [
      "Number of reviews: 8\n",
      "Len of reviews collection: 880\n",
      "------------------------------------------------------------------------------\n",
      "Processing: https://www.amazon.in/Apple-iPhone-X-64GB-Silver/product-reviews/B0711T2L8K?pageNumber=111\n"
     ]
    },
    {
     "name": "stderr",
     "output_type": "stream",
     "text": [
      "/Users/sharmili/miniconda2/envs/playground/lib/python2.7/site-packages/urllib3/connectionpool.py:858: InsecureRequestWarning: Unverified HTTPS request is being made. Adding certificate verification is strongly advised. See: https://urllib3.readthedocs.io/en/latest/advanced-usage.html#ssl-warnings\n",
      "  InsecureRequestWarning)\n"
     ]
    },
    {
     "name": "stdout",
     "output_type": "stream",
     "text": [
      "Number of reviews: 8\n",
      "Len of reviews collection: 888\n",
      "------------------------------------------------------------------------------\n",
      "Processing: https://www.amazon.in/Apple-iPhone-X-64GB-Silver/product-reviews/B0711T2L8K?pageNumber=112\n"
     ]
    },
    {
     "name": "stderr",
     "output_type": "stream",
     "text": [
      "/Users/sharmili/miniconda2/envs/playground/lib/python2.7/site-packages/urllib3/connectionpool.py:858: InsecureRequestWarning: Unverified HTTPS request is being made. Adding certificate verification is strongly advised. See: https://urllib3.readthedocs.io/en/latest/advanced-usage.html#ssl-warnings\n",
      "  InsecureRequestWarning)\n"
     ]
    },
    {
     "name": "stdout",
     "output_type": "stream",
     "text": [
      "Number of reviews: 8\n",
      "Len of reviews collection: 896\n",
      "------------------------------------------------------------------------------\n",
      "Processing: https://www.amazon.in/Apple-iPhone-X-64GB-Silver/product-reviews/B0711T2L8K?pageNumber=113\n"
     ]
    },
    {
     "name": "stderr",
     "output_type": "stream",
     "text": [
      "/Users/sharmili/miniconda2/envs/playground/lib/python2.7/site-packages/urllib3/connectionpool.py:858: InsecureRequestWarning: Unverified HTTPS request is being made. Adding certificate verification is strongly advised. See: https://urllib3.readthedocs.io/en/latest/advanced-usage.html#ssl-warnings\n",
      "  InsecureRequestWarning)\n"
     ]
    },
    {
     "name": "stdout",
     "output_type": "stream",
     "text": [
      "Number of reviews: 8\n",
      "Len of reviews collection: 904\n",
      "------------------------------------------------------------------------------\n",
      "Processing: https://www.amazon.in/Apple-iPhone-X-64GB-Silver/product-reviews/B0711T2L8K?pageNumber=114\n"
     ]
    },
    {
     "name": "stderr",
     "output_type": "stream",
     "text": [
      "/Users/sharmili/miniconda2/envs/playground/lib/python2.7/site-packages/urllib3/connectionpool.py:858: InsecureRequestWarning: Unverified HTTPS request is being made. Adding certificate verification is strongly advised. See: https://urllib3.readthedocs.io/en/latest/advanced-usage.html#ssl-warnings\n",
      "  InsecureRequestWarning)\n"
     ]
    },
    {
     "name": "stdout",
     "output_type": "stream",
     "text": [
      "Number of reviews: 8\n",
      "Len of reviews collection: 912\n",
      "------------------------------------------------------------------------------\n",
      "Processing: https://www.amazon.in/Apple-iPhone-X-64GB-Silver/product-reviews/B0711T2L8K?pageNumber=115\n"
     ]
    },
    {
     "name": "stderr",
     "output_type": "stream",
     "text": [
      "/Users/sharmili/miniconda2/envs/playground/lib/python2.7/site-packages/urllib3/connectionpool.py:858: InsecureRequestWarning: Unverified HTTPS request is being made. Adding certificate verification is strongly advised. See: https://urllib3.readthedocs.io/en/latest/advanced-usage.html#ssl-warnings\n",
      "  InsecureRequestWarning)\n"
     ]
    },
    {
     "name": "stdout",
     "output_type": "stream",
     "text": [
      "Number of reviews: 8\n",
      "Len of reviews collection: 920\n",
      "------------------------------------------------------------------------------\n",
      "Processing: https://www.amazon.in/Apple-iPhone-X-64GB-Silver/product-reviews/B0711T2L8K?pageNumber=116\n"
     ]
    },
    {
     "name": "stderr",
     "output_type": "stream",
     "text": [
      "/Users/sharmili/miniconda2/envs/playground/lib/python2.7/site-packages/urllib3/connectionpool.py:858: InsecureRequestWarning: Unverified HTTPS request is being made. Adding certificate verification is strongly advised. See: https://urllib3.readthedocs.io/en/latest/advanced-usage.html#ssl-warnings\n",
      "  InsecureRequestWarning)\n"
     ]
    },
    {
     "name": "stdout",
     "output_type": "stream",
     "text": [
      "Number of reviews: 8\n",
      "Len of reviews collection: 928\n",
      "------------------------------------------------------------------------------\n",
      "Processing: https://www.amazon.in/Apple-iPhone-X-64GB-Silver/product-reviews/B0711T2L8K?pageNumber=117\n"
     ]
    },
    {
     "name": "stderr",
     "output_type": "stream",
     "text": [
      "/Users/sharmili/miniconda2/envs/playground/lib/python2.7/site-packages/urllib3/connectionpool.py:858: InsecureRequestWarning: Unverified HTTPS request is being made. Adding certificate verification is strongly advised. See: https://urllib3.readthedocs.io/en/latest/advanced-usage.html#ssl-warnings\n",
      "  InsecureRequestWarning)\n"
     ]
    },
    {
     "name": "stdout",
     "output_type": "stream",
     "text": [
      "Number of reviews: 8\n",
      "Len of reviews collection: 936\n",
      "------------------------------------------------------------------------------\n",
      "Processing: https://www.amazon.in/Apple-iPhone-X-64GB-Silver/product-reviews/B0711T2L8K?pageNumber=118\n"
     ]
    },
    {
     "name": "stderr",
     "output_type": "stream",
     "text": [
      "/Users/sharmili/miniconda2/envs/playground/lib/python2.7/site-packages/urllib3/connectionpool.py:858: InsecureRequestWarning: Unverified HTTPS request is being made. Adding certificate verification is strongly advised. See: https://urllib3.readthedocs.io/en/latest/advanced-usage.html#ssl-warnings\n",
      "  InsecureRequestWarning)\n"
     ]
    },
    {
     "name": "stdout",
     "output_type": "stream",
     "text": [
      "Number of reviews: 8\n",
      "Len of reviews collection: 944\n",
      "------------------------------------------------------------------------------\n",
      "Processing: https://www.amazon.in/Apple-iPhone-X-64GB-Silver/product-reviews/B0711T2L8K?pageNumber=119\n"
     ]
    },
    {
     "name": "stderr",
     "output_type": "stream",
     "text": [
      "/Users/sharmili/miniconda2/envs/playground/lib/python2.7/site-packages/urllib3/connectionpool.py:858: InsecureRequestWarning: Unverified HTTPS request is being made. Adding certificate verification is strongly advised. See: https://urllib3.readthedocs.io/en/latest/advanced-usage.html#ssl-warnings\n",
      "  InsecureRequestWarning)\n"
     ]
    },
    {
     "name": "stdout",
     "output_type": "stream",
     "text": [
      "Number of reviews: 8\n",
      "Len of reviews collection: 952\n",
      "------------------------------------------------------------------------------\n",
      "Processing: https://www.amazon.in/Apple-iPhone-X-64GB-Silver/product-reviews/B0711T2L8K?pageNumber=120\n"
     ]
    },
    {
     "name": "stderr",
     "output_type": "stream",
     "text": [
      "/Users/sharmili/miniconda2/envs/playground/lib/python2.7/site-packages/urllib3/connectionpool.py:858: InsecureRequestWarning: Unverified HTTPS request is being made. Adding certificate verification is strongly advised. See: https://urllib3.readthedocs.io/en/latest/advanced-usage.html#ssl-warnings\n",
      "  InsecureRequestWarning)\n"
     ]
    },
    {
     "name": "stdout",
     "output_type": "stream",
     "text": [
      "Number of reviews: 8\n",
      "Len of reviews collection: 960\n",
      "------------------------------------------------------------------------------\n",
      "Processing: https://www.amazon.in/Apple-iPhone-X-64GB-Silver/product-reviews/B0711T2L8K?pageNumber=121\n"
     ]
    },
    {
     "name": "stderr",
     "output_type": "stream",
     "text": [
      "/Users/sharmili/miniconda2/envs/playground/lib/python2.7/site-packages/urllib3/connectionpool.py:858: InsecureRequestWarning: Unverified HTTPS request is being made. Adding certificate verification is strongly advised. See: https://urllib3.readthedocs.io/en/latest/advanced-usage.html#ssl-warnings\n",
      "  InsecureRequestWarning)\n"
     ]
    },
    {
     "name": "stdout",
     "output_type": "stream",
     "text": [
      "Number of reviews: 8\n",
      "Len of reviews collection: 968\n",
      "------------------------------------------------------------------------------\n",
      "Processing: https://www.amazon.in/Apple-iPhone-X-64GB-Silver/product-reviews/B0711T2L8K?pageNumber=122\n"
     ]
    },
    {
     "name": "stderr",
     "output_type": "stream",
     "text": [
      "/Users/sharmili/miniconda2/envs/playground/lib/python2.7/site-packages/urllib3/connectionpool.py:858: InsecureRequestWarning: Unverified HTTPS request is being made. Adding certificate verification is strongly advised. See: https://urllib3.readthedocs.io/en/latest/advanced-usage.html#ssl-warnings\n",
      "  InsecureRequestWarning)\n"
     ]
    },
    {
     "name": "stdout",
     "output_type": "stream",
     "text": [
      "Number of reviews: 8\n",
      "Len of reviews collection: 976\n",
      "------------------------------------------------------------------------------\n",
      "Processing: https://www.amazon.in/Apple-iPhone-X-64GB-Silver/product-reviews/B0711T2L8K?pageNumber=123\n"
     ]
    },
    {
     "name": "stderr",
     "output_type": "stream",
     "text": [
      "/Users/sharmili/miniconda2/envs/playground/lib/python2.7/site-packages/urllib3/connectionpool.py:858: InsecureRequestWarning: Unverified HTTPS request is being made. Adding certificate verification is strongly advised. See: https://urllib3.readthedocs.io/en/latest/advanced-usage.html#ssl-warnings\n",
      "  InsecureRequestWarning)\n"
     ]
    },
    {
     "name": "stdout",
     "output_type": "stream",
     "text": [
      "Number of reviews: 8\n",
      "Len of reviews collection: 984\n",
      "------------------------------------------------------------------------------\n",
      "Processing: https://www.amazon.in/Apple-iPhone-X-64GB-Silver/product-reviews/B0711T2L8K?pageNumber=124\n"
     ]
    },
    {
     "name": "stderr",
     "output_type": "stream",
     "text": [
      "/Users/sharmili/miniconda2/envs/playground/lib/python2.7/site-packages/urllib3/connectionpool.py:858: InsecureRequestWarning: Unverified HTTPS request is being made. Adding certificate verification is strongly advised. See: https://urllib3.readthedocs.io/en/latest/advanced-usage.html#ssl-warnings\n",
      "  InsecureRequestWarning)\n"
     ]
    },
    {
     "name": "stdout",
     "output_type": "stream",
     "text": [
      "Number of reviews: 8\n",
      "Len of reviews collection: 992\n",
      "------------------------------------------------------------------------------\n",
      "Processing: https://www.amazon.in/Apple-iPhone-X-64GB-Silver/product-reviews/B0711T2L8K?pageNumber=125\n"
     ]
    },
    {
     "name": "stderr",
     "output_type": "stream",
     "text": [
      "/Users/sharmili/miniconda2/envs/playground/lib/python2.7/site-packages/urllib3/connectionpool.py:858: InsecureRequestWarning: Unverified HTTPS request is being made. Adding certificate verification is strongly advised. See: https://urllib3.readthedocs.io/en/latest/advanced-usage.html#ssl-warnings\n",
      "  InsecureRequestWarning)\n"
     ]
    },
    {
     "name": "stdout",
     "output_type": "stream",
     "text": [
      "Number of reviews: 8\n",
      "Len of reviews collection: 1000\n",
      "------------------------------------------------------------------------------\n",
      "Processing: https://www.amazon.in/Apple-iPhone-X-64GB-Silver/product-reviews/B0711T2L8K?pageNumber=126\n"
     ]
    },
    {
     "name": "stderr",
     "output_type": "stream",
     "text": [
      "/Users/sharmili/miniconda2/envs/playground/lib/python2.7/site-packages/urllib3/connectionpool.py:858: InsecureRequestWarning: Unverified HTTPS request is being made. Adding certificate verification is strongly advised. See: https://urllib3.readthedocs.io/en/latest/advanced-usage.html#ssl-warnings\n",
      "  InsecureRequestWarning)\n"
     ]
    },
    {
     "name": "stdout",
     "output_type": "stream",
     "text": [
      "Number of reviews: 8\n",
      "Len of reviews collection: 1008\n",
      "------------------------------------------------------------------------------\n",
      "Processing: https://www.amazon.in/Apple-iPhone-X-64GB-Silver/product-reviews/B0711T2L8K?pageNumber=127\n"
     ]
    },
    {
     "name": "stderr",
     "output_type": "stream",
     "text": [
      "/Users/sharmili/miniconda2/envs/playground/lib/python2.7/site-packages/urllib3/connectionpool.py:858: InsecureRequestWarning: Unverified HTTPS request is being made. Adding certificate verification is strongly advised. See: https://urllib3.readthedocs.io/en/latest/advanced-usage.html#ssl-warnings\n",
      "  InsecureRequestWarning)\n"
     ]
    },
    {
     "name": "stdout",
     "output_type": "stream",
     "text": [
      "Number of reviews: 8\n",
      "Len of reviews collection: 1016\n",
      "------------------------------------------------------------------------------\n",
      "Processing: https://www.amazon.in/Apple-iPhone-X-64GB-Silver/product-reviews/B0711T2L8K?pageNumber=128\n"
     ]
    },
    {
     "name": "stderr",
     "output_type": "stream",
     "text": [
      "/Users/sharmili/miniconda2/envs/playground/lib/python2.7/site-packages/urllib3/connectionpool.py:858: InsecureRequestWarning: Unverified HTTPS request is being made. Adding certificate verification is strongly advised. See: https://urllib3.readthedocs.io/en/latest/advanced-usage.html#ssl-warnings\n",
      "  InsecureRequestWarning)\n"
     ]
    },
    {
     "name": "stdout",
     "output_type": "stream",
     "text": [
      "Number of reviews: 8\n",
      "Len of reviews collection: 1024\n",
      "------------------------------------------------------------------------------\n",
      "Processing: https://www.amazon.in/Apple-iPhone-X-64GB-Silver/product-reviews/B0711T2L8K?pageNumber=129\n"
     ]
    },
    {
     "name": "stderr",
     "output_type": "stream",
     "text": [
      "/Users/sharmili/miniconda2/envs/playground/lib/python2.7/site-packages/urllib3/connectionpool.py:858: InsecureRequestWarning: Unverified HTTPS request is being made. Adding certificate verification is strongly advised. See: https://urllib3.readthedocs.io/en/latest/advanced-usage.html#ssl-warnings\n",
      "  InsecureRequestWarning)\n"
     ]
    },
    {
     "name": "stdout",
     "output_type": "stream",
     "text": [
      "Number of reviews: 8\n",
      "Len of reviews collection: 1032\n",
      "------------------------------------------------------------------------------\n",
      "Processing: https://www.amazon.in/Apple-iPhone-X-64GB-Silver/product-reviews/B0711T2L8K?pageNumber=130\n"
     ]
    },
    {
     "name": "stderr",
     "output_type": "stream",
     "text": [
      "/Users/sharmili/miniconda2/envs/playground/lib/python2.7/site-packages/urllib3/connectionpool.py:858: InsecureRequestWarning: Unverified HTTPS request is being made. Adding certificate verification is strongly advised. See: https://urllib3.readthedocs.io/en/latest/advanced-usage.html#ssl-warnings\n",
      "  InsecureRequestWarning)\n"
     ]
    },
    {
     "name": "stdout",
     "output_type": "stream",
     "text": [
      "Number of reviews: 8\n",
      "Len of reviews collection: 1040\n",
      "------------------------------------------------------------------------------\n",
      "Processing: https://www.amazon.in/Apple-iPhone-X-64GB-Silver/product-reviews/B0711T2L8K?pageNumber=131\n"
     ]
    },
    {
     "name": "stderr",
     "output_type": "stream",
     "text": [
      "/Users/sharmili/miniconda2/envs/playground/lib/python2.7/site-packages/urllib3/connectionpool.py:858: InsecureRequestWarning: Unverified HTTPS request is being made. Adding certificate verification is strongly advised. See: https://urllib3.readthedocs.io/en/latest/advanced-usage.html#ssl-warnings\n",
      "  InsecureRequestWarning)\n"
     ]
    },
    {
     "name": "stdout",
     "output_type": "stream",
     "text": [
      "Number of reviews: 8\n",
      "Len of reviews collection: 1048\n",
      "------------------------------------------------------------------------------\n",
      "Processing: https://www.amazon.in/Apple-iPhone-X-64GB-Silver/product-reviews/B0711T2L8K?pageNumber=132\n"
     ]
    },
    {
     "name": "stderr",
     "output_type": "stream",
     "text": [
      "/Users/sharmili/miniconda2/envs/playground/lib/python2.7/site-packages/urllib3/connectionpool.py:858: InsecureRequestWarning: Unverified HTTPS request is being made. Adding certificate verification is strongly advised. See: https://urllib3.readthedocs.io/en/latest/advanced-usage.html#ssl-warnings\n",
      "  InsecureRequestWarning)\n"
     ]
    },
    {
     "name": "stdout",
     "output_type": "stream",
     "text": [
      "Number of reviews: 8\n",
      "Len of reviews collection: 1056\n",
      "------------------------------------------------------------------------------\n",
      "Processing: https://www.amazon.in/Apple-iPhone-X-64GB-Silver/product-reviews/B0711T2L8K?pageNumber=133\n"
     ]
    },
    {
     "name": "stderr",
     "output_type": "stream",
     "text": [
      "/Users/sharmili/miniconda2/envs/playground/lib/python2.7/site-packages/urllib3/connectionpool.py:858: InsecureRequestWarning: Unverified HTTPS request is being made. Adding certificate verification is strongly advised. See: https://urllib3.readthedocs.io/en/latest/advanced-usage.html#ssl-warnings\n",
      "  InsecureRequestWarning)\n"
     ]
    },
    {
     "name": "stdout",
     "output_type": "stream",
     "text": [
      "Number of reviews: 8\n",
      "Len of reviews collection: 1064\n",
      "------------------------------------------------------------------------------\n",
      "Processing: https://www.amazon.in/Apple-iPhone-X-64GB-Silver/product-reviews/B0711T2L8K?pageNumber=134\n"
     ]
    },
    {
     "name": "stderr",
     "output_type": "stream",
     "text": [
      "/Users/sharmili/miniconda2/envs/playground/lib/python2.7/site-packages/urllib3/connectionpool.py:858: InsecureRequestWarning: Unverified HTTPS request is being made. Adding certificate verification is strongly advised. See: https://urllib3.readthedocs.io/en/latest/advanced-usage.html#ssl-warnings\n",
      "  InsecureRequestWarning)\n"
     ]
    },
    {
     "name": "stdout",
     "output_type": "stream",
     "text": [
      "Number of reviews: 8\n",
      "Len of reviews collection: 1072\n",
      "------------------------------------------------------------------------------\n",
      "Processing: https://www.amazon.in/Apple-iPhone-X-64GB-Silver/product-reviews/B0711T2L8K?pageNumber=135\n"
     ]
    },
    {
     "name": "stderr",
     "output_type": "stream",
     "text": [
      "/Users/sharmili/miniconda2/envs/playground/lib/python2.7/site-packages/urllib3/connectionpool.py:858: InsecureRequestWarning: Unverified HTTPS request is being made. Adding certificate verification is strongly advised. See: https://urllib3.readthedocs.io/en/latest/advanced-usage.html#ssl-warnings\n",
      "  InsecureRequestWarning)\n"
     ]
    },
    {
     "name": "stdout",
     "output_type": "stream",
     "text": [
      "Number of reviews: 8\n",
      "Len of reviews collection: 1080\n",
      "------------------------------------------------------------------------------\n",
      "Processing: https://www.amazon.in/Apple-iPhone-X-64GB-Silver/product-reviews/B0711T2L8K?pageNumber=136\n"
     ]
    },
    {
     "name": "stderr",
     "output_type": "stream",
     "text": [
      "/Users/sharmili/miniconda2/envs/playground/lib/python2.7/site-packages/urllib3/connectionpool.py:858: InsecureRequestWarning: Unverified HTTPS request is being made. Adding certificate verification is strongly advised. See: https://urllib3.readthedocs.io/en/latest/advanced-usage.html#ssl-warnings\n",
      "  InsecureRequestWarning)\n"
     ]
    },
    {
     "name": "stdout",
     "output_type": "stream",
     "text": [
      "Number of reviews: 8\n",
      "Len of reviews collection: 1088\n",
      "------------------------------------------------------------------------------\n",
      "Processing: https://www.amazon.in/Apple-iPhone-X-64GB-Silver/product-reviews/B0711T2L8K?pageNumber=137\n"
     ]
    },
    {
     "name": "stderr",
     "output_type": "stream",
     "text": [
      "/Users/sharmili/miniconda2/envs/playground/lib/python2.7/site-packages/urllib3/connectionpool.py:858: InsecureRequestWarning: Unverified HTTPS request is being made. Adding certificate verification is strongly advised. See: https://urllib3.readthedocs.io/en/latest/advanced-usage.html#ssl-warnings\n",
      "  InsecureRequestWarning)\n"
     ]
    },
    {
     "name": "stdout",
     "output_type": "stream",
     "text": [
      "Number of reviews: 8\n",
      "Len of reviews collection: 1096\n",
      "------------------------------------------------------------------------------\n",
      "Processing: https://www.amazon.in/Apple-iPhone-X-64GB-Silver/product-reviews/B0711T2L8K?pageNumber=138\n"
     ]
    },
    {
     "name": "stderr",
     "output_type": "stream",
     "text": [
      "/Users/sharmili/miniconda2/envs/playground/lib/python2.7/site-packages/urllib3/connectionpool.py:858: InsecureRequestWarning: Unverified HTTPS request is being made. Adding certificate verification is strongly advised. See: https://urllib3.readthedocs.io/en/latest/advanced-usage.html#ssl-warnings\n",
      "  InsecureRequestWarning)\n"
     ]
    },
    {
     "name": "stdout",
     "output_type": "stream",
     "text": [
      "Number of reviews: 8\n",
      "Len of reviews collection: 1104\n",
      "------------------------------------------------------------------------------\n",
      "Processing: https://www.amazon.in/Apple-iPhone-X-64GB-Silver/product-reviews/B0711T2L8K?pageNumber=139\n"
     ]
    },
    {
     "name": "stderr",
     "output_type": "stream",
     "text": [
      "/Users/sharmili/miniconda2/envs/playground/lib/python2.7/site-packages/urllib3/connectionpool.py:858: InsecureRequestWarning: Unverified HTTPS request is being made. Adding certificate verification is strongly advised. See: https://urllib3.readthedocs.io/en/latest/advanced-usage.html#ssl-warnings\n",
      "  InsecureRequestWarning)\n"
     ]
    },
    {
     "name": "stdout",
     "output_type": "stream",
     "text": [
      "Number of reviews: 8\n",
      "Len of reviews collection: 1112\n",
      "------------------------------------------------------------------------------\n",
      "Processing: https://www.amazon.in/Apple-iPhone-X-64GB-Silver/product-reviews/B0711T2L8K?pageNumber=140\n"
     ]
    },
    {
     "name": "stderr",
     "output_type": "stream",
     "text": [
      "/Users/sharmili/miniconda2/envs/playground/lib/python2.7/site-packages/urllib3/connectionpool.py:858: InsecureRequestWarning: Unverified HTTPS request is being made. Adding certificate verification is strongly advised. See: https://urllib3.readthedocs.io/en/latest/advanced-usage.html#ssl-warnings\n",
      "  InsecureRequestWarning)\n"
     ]
    },
    {
     "name": "stdout",
     "output_type": "stream",
     "text": [
      "Number of reviews: 8\n",
      "Len of reviews collection: 1120\n",
      "------------------------------------------------------------------------------\n",
      "Processing: https://www.amazon.in/Apple-iPhone-X-64GB-Silver/product-reviews/B0711T2L8K?pageNumber=141\n"
     ]
    },
    {
     "name": "stderr",
     "output_type": "stream",
     "text": [
      "/Users/sharmili/miniconda2/envs/playground/lib/python2.7/site-packages/urllib3/connectionpool.py:858: InsecureRequestWarning: Unverified HTTPS request is being made. Adding certificate verification is strongly advised. See: https://urllib3.readthedocs.io/en/latest/advanced-usage.html#ssl-warnings\n",
      "  InsecureRequestWarning)\n"
     ]
    },
    {
     "name": "stdout",
     "output_type": "stream",
     "text": [
      "Number of reviews: 8\n",
      "Len of reviews collection: 1128\n",
      "------------------------------------------------------------------------------\n",
      "Processing: https://www.amazon.in/Apple-iPhone-X-64GB-Silver/product-reviews/B0711T2L8K?pageNumber=142\n"
     ]
    },
    {
     "name": "stderr",
     "output_type": "stream",
     "text": [
      "/Users/sharmili/miniconda2/envs/playground/lib/python2.7/site-packages/urllib3/connectionpool.py:858: InsecureRequestWarning: Unverified HTTPS request is being made. Adding certificate verification is strongly advised. See: https://urllib3.readthedocs.io/en/latest/advanced-usage.html#ssl-warnings\n",
      "  InsecureRequestWarning)\n"
     ]
    }
   ],
   "source": [
    "review_coll = []\n",
    "pg_num = 1\n",
    "while True:\n",
    "    print \"Processing: {}{}\".format(base_url,pg_num)\n",
    "    page = requests.get(base_url+str(pg_num),headers=headers, verify=False, timeout=30)\n",
    "    parser = html.fromstring(page.content)\n",
    "    raw_review_section = parser.xpath(XPATH_REVIEW_SECTION)\n",
    "    if not raw_review_section:\n",
    "        break\n",
    "    print \"Number of reviews: {}\".format(len(raw_review_section))\n",
    "    for review_ in raw_review_section:\n",
    "        to_append = {}\n",
    "        to_append[\"author\"] = review_.xpath(XPATH_AUTHOR)[0]\n",
    "        to_append[\"date\"] = review_.xpath(XPATH_REVIEW_POSTED_DATE)[0]\n",
    "        colour_size = review_.xpath(XPATH_COLOUR_SIZE)\n",
    "        for text_ in colour_size:\n",
    "            vals = text_.split(\":\")\n",
    "            key = vals[0].lower().strip()\n",
    "            if key:\n",
    "                to_append[key] = vals[1].lower().strip()\n",
    "        to_append[\"verified_purchase\"] = bool(review_.xpath(XPATH_VERIFIED_PURCHASE))\n",
    "        to_append[\"rating\"] = review_.xpath(XPATH_RATING)[0].split(\" out\")[0]\n",
    "        to_append[\"header\"] = (review_.xpath(XPATH_REVIEW_HEADER) or [None])[0]\n",
    "        to_append[\"body\"] = (review_.xpath(XPATH_REVIEW_BODY) or [None])[0]\n",
    "        review_coll.append(to_append)\n",
    "    print \"Len of reviews collection: {}\".format(len(review_coll))\n",
    "    pg_num +=1\n",
    "    print \"------------------------------------------------------------------------------\""
   ]
  },
  {
   "cell_type": "code",
   "execution_count": 6,
   "metadata": {},
   "outputs": [
    {
     "data": {
      "text/plain": [
       "1128"
      ]
     },
     "execution_count": 6,
     "metadata": {},
     "output_type": "execute_result"
    }
   ],
   "source": [
    "len(review_coll)"
   ]
  },
  {
   "cell_type": "code",
   "execution_count": 7,
   "metadata": {
    "collapsed": true
   },
   "outputs": [],
   "source": [
    "import json\n",
    "with open('reviews.json', 'w') as fout:\n",
    "    json.dump(review_coll, fout)"
   ]
  },
  {
   "cell_type": "code",
   "execution_count": null,
   "metadata": {
    "collapsed": true
   },
   "outputs": [],
   "source": []
  }
 ],
 "metadata": {
  "kernelspec": {
   "display_name": "Python 2",
   "language": "python",
   "name": "python2"
  },
  "language_info": {
   "codemirror_mode": {
    "name": "ipython",
    "version": 2
   },
   "file_extension": ".py",
   "mimetype": "text/x-python",
   "name": "python",
   "nbconvert_exporter": "python",
   "pygments_lexer": "ipython2",
   "version": "2.7.13"
  }
 },
 "nbformat": 4,
 "nbformat_minor": 2
}
